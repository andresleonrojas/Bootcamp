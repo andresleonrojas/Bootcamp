{
 "cells": [
  {
   "cell_type": "markdown",
   "id": "48b133d8",
   "metadata": {},
   "source": [
    "Week 5: Functions\n"
   ]
  },
  {
   "cell_type": "markdown",
   "id": "ec4adb33",
   "metadata": {},
   "source": [
    "Monday: Creating and Calling Functions\n",
    "    # A function is a block of code which only runs when it is called. You can pass data, known as parameters, into a function.\n",
    "    # A function can return data as a result.\n",
    "    # They essentially store code that will only run when called upon.\n",
    "    # All functions are generally associated with a single task or procedure.\n",
    "    # In Python there are two stages to each function. The first stage is the function definition. This is where you define the name of the function, any parameters it’s supposed to accept,and what it’s supposed to do in the block of code associated with it. The second stage is known as the function call. Functions will never run until called, so you can define as many functions as you’d like, but if you never call one of them, then nothing will happen. When you call a function, it will run the block of code within the definition."
   ]
  },
  {
   "cell_type": "code",
   "execution_count": 2,
   "id": "68ccc07e",
   "metadata": {},
   "outputs": [
    {
     "name": "stdout",
     "output_type": "stream",
     "text": [
      "Name: Andres Leon\n",
      "Age: 34 \n",
      "Name: Andres Leon\n",
      "Age: 34 \n"
     ]
    }
   ],
   "source": [
    "# writing my first function\n",
    "\n",
    "def printInfo():            # defines what the function does whe called\n",
    "    print(\"Name: Andres Leon\")\n",
    "    print(\"Age: 34 \")\n",
    "printInfo()                 # calls the function to run\n",
    "printInfo()                  # calls the function again\n",
    "\n"
   ]
  },
  {
   "cell_type": "code",
   "execution_count": 3,
   "id": "666df941",
   "metadata": {},
   "outputs": [
    {
     "name": "stdout",
     "output_type": "stream",
     "text": [
      "Name: ANDRES LEON\n",
      "Age: 34\n",
      "Name: DIANA \n",
      "Age: 33\n"
     ]
    }
   ],
   "source": [
    "def userinfo():\n",
    "    name = input(\"What is your name?\").upper()\n",
    "    age = input(\"How old are you?\")\n",
    "    print(\"Name: {}\".format(name))\n",
    "    print(\"Age: {}\".format(age))\n",
    "\n",
    "userinfo()\n",
    "userinfo()"
   ]
  },
  {
   "cell_type": "code",
   "execution_count": 4,
   "id": "5f862b30",
   "metadata": {},
   "outputs": [
    {
     "name": "stdout",
     "output_type": "stream",
     "text": [
      "15\n"
     ]
    }
   ],
   "source": [
    "# performing a calculation in a function\n",
    "\n",
    "def calc():\n",
    "    x,y = 5, 10\n",
    "    print(x+y)\n",
    "\n",
    "calc()              # will run the block of code within calc function and output 15"
   ]
  },
  {
   "cell_type": "markdown",
   "id": "75a45dde",
   "metadata": {},
   "source": [
    "Monday Exercises"
   ]
  },
  {
   "cell_type": "code",
   "execution_count": 5,
   "id": "1bdf9687",
   "metadata": {},
   "outputs": [
    {
     "name": "stdout",
     "output_type": "stream",
     "text": [
      "Andres Felipe Leon Rojas\n"
     ]
    }
   ],
   "source": [
    "# Define a funciton called MyName, and have it print your name when called\n",
    "\n",
    "def MyName():\n",
    "    print(\"Andres Felipe Leon Rojas\")\n",
    "\n",
    "MyName()"
   ]
  },
  {
   "cell_type": "code",
   "execution_count": 6,
   "id": "aa1094e9",
   "metadata": {},
   "outputs": [
    {
     "name": "stdout",
     "output_type": "stream",
     "text": [
      "My favorite pizza toppings are:\n",
      "cheddar cheese\n",
      "jalapenos\n",
      "salami\n",
      "olives\n",
      "capsicum\n"
     ]
    }
   ],
   "source": [
    "# Define a function that prints out all your favorite pizza toppings called pizzaToppings. Called the function three times.\n",
    "\n",
    "def pizzaToppings():\n",
    "    toppings = [\"cheddar cheese\", \"jalapenos\", \"salami\", \"olives\", \"capsicum\"]\n",
    "    print(\"My favorite pizza toppings are:\")\n",
    "    for i in toppings:\n",
    "        print(i)\n",
    "\n",
    "pizzaToppings()"
   ]
  },
  {
   "cell_type": "markdown",
   "id": "92824de0",
   "metadata": {},
   "source": [
    "Tuesday: Parameters\n",
    "Parameters are temporary variables declared on the function definition.\n",
    "When you want to call a function with different values, you need to use parameters. Within the parenthesis of the function\n",
    "definition is where you would state a parameter name (is an arbitrary name).When calling the function, you\n",
    "would pass in the necessary value to run the block of code with\n",
    "A parameter can be associated with a default value. Default parameters MUST always go after non-default parameters."
   ]
  },
  {
   "cell_type": "code",
   "execution_count": 7,
   "id": "877209ac",
   "metadata": {},
   "outputs": [
    {
     "name": "stdout",
     "output_type": "stream",
     "text": [
      "Your name is: Andres Leon\n",
      "Your name is: Diana Montagut\n"
     ]
    }
   ],
   "source": [
    "# passing a single parameter into a function\n",
    "\n",
    "def printName(full_name):\n",
    "    print(\"Your name is: {}\".format(full_name))\n",
    "\n",
    "printName(\"Andres Leon\")\n",
    "printName(\"Diana Montagut\")"
   ]
  },
  {
   "cell_type": "code",
   "execution_count": 8,
   "id": "5981fa58",
   "metadata": {},
   "outputs": [
    {
     "name": "stdout",
     "output_type": "stream",
     "text": [
      "15 + 43 = 58\n",
      "29.07 + 21.04 = 50.11\n"
     ]
    }
   ],
   "source": [
    "#passing multiple parameters into a function\n",
    "\n",
    "def addNums(num1, num2):\n",
    "    result = num1 + num2\n",
    "    print(\"{} + {} = {}\".format(num1,num2,result))\n",
    "\n",
    "addNums(15,43)\n",
    "addNums(29.07,21.04)"
   ]
  },
  {
   "cell_type": "code",
   "execution_count": 12,
   "id": "892f5220",
   "metadata": {},
   "outputs": [
    {
     "name": "stdout",
     "output_type": "stream",
     "text": [
      "4\n",
      "16\n",
      "25\n",
      "100\n",
      "1\n",
      "9\n",
      "36\n"
     ]
    }
   ],
   "source": [
    "# using a function to square all information\n",
    "\n",
    "numbers1 = [2,4,5,10]\n",
    "numbers2 = [1,3,6]\n",
    "\n",
    "def square(parameter):\n",
    "    for element in parameter:\n",
    "        print(element**2)\n",
    "\n",
    "square(numbers1)\n",
    "square(numbers2)"
   ]
  },
  {
   "cell_type": "code",
   "execution_count": 13,
   "id": "a02ccb86",
   "metadata": {},
   "outputs": [
    {
     "name": "stdout",
     "output_type": "stream",
     "text": [
      "[1, 9, 16, 1, 36]\n"
     ]
    }
   ],
   "source": [
    "def square_integers(lst):\n",
    "    return [x**2 for x in lst if isinstance(x, int)]\n",
    "\n",
    "mixed_list = [1, 2.5, 'hello', 3, -4, True, 6]\n",
    "squared_integers = square_integers(mixed_list)\n",
    "print(squared_integers)"
   ]
  },
  {
   "cell_type": "code",
   "execution_count": 16,
   "id": "28491cd6",
   "metadata": {},
   "outputs": [
    {
     "name": "stdout",
     "output_type": "stream",
     "text": [
      "[1, 9, 16, 36]\n"
     ]
    }
   ],
   "source": [
    "def square_integers(lst):\n",
    "    return [x**2 for x in lst if isinstance(x, int) and not isinstance(x, bool)]\n",
    "\n",
    "mixed_list = [1, 2.5, 'hello', 3, -4, True, 6, [2, \"\", 3.6]]\n",
    "squared_integers = square_integers(mixed_list)\n",
    "print(squared_integers)"
   ]
  },
  {
   "cell_type": "code",
   "execution_count": 17,
   "id": "3bb1a82a",
   "metadata": {},
   "outputs": [
    {
     "name": "stdout",
     "output_type": "stream",
     "text": [
      "Area: 12.566064\n"
     ]
    }
   ],
   "source": [
    "# settingdefault parameter values\n",
    "\n",
    "def calcArea(r, pi = 3.141516):\n",
    "    area = pi * (r**2)\n",
    "    print(\"Area: {}\".format(area))\n",
    "\n",
    "calcArea(2)             # for a circle of radius = 2"
   ]
  },
  {
   "cell_type": "code",
   "execution_count": 19,
   "id": "da3afd9c",
   "metadata": {},
   "outputs": [
    {
     "name": "stdout",
     "output_type": "stream",
     "text": [
      "Andres Leon\n",
      "Diana Carolina Montagut\n"
     ]
    }
   ],
   "source": [
    "# setting default parameter values\n",
    "\n",
    "def printName(first,last,middle=\"\"):\n",
    "    if middle:\n",
    "        print(\"{} {} {}\".format(first, middle, last))\n",
    "    else:\n",
    "        print(\"{} {}\".format(first, last))\n",
    "\n",
    "printName(\"Andres\",\"Leon\")\n",
    "printName(\"Diana\",\"Montagut\",\"Carolina\")"
   ]
  },
  {
   "cell_type": "code",
   "execution_count": 20,
   "id": "1678ef93",
   "metadata": {},
   "outputs": [
    {
     "name": "stdout",
     "output_type": "stream",
     "text": [
      "2.5\n",
      "5\n"
     ]
    }
   ],
   "source": [
    "# explicity ssigning values to parameters by referencing the name\n",
    "\n",
    "def addNums(num1, num2):\n",
    "    print(num2)\n",
    "    print(num1)\n",
    "addNums(5, num2=2.5)"
   ]
  },
  {
   "cell_type": "code",
   "execution_count": 21,
   "id": "f748baf2",
   "metadata": {},
   "outputs": [
    {
     "name": "stdout",
     "output_type": "stream",
     "text": [
      "<class 'tuple'>\n",
      "5\n",
      "True\n",
      "Jess\n"
     ]
    }
   ],
   "source": [
    "# using args parameter to take in a tuple of arbitrary values\n",
    "\n",
    "def outputData(name,*args):\n",
    "    print(type(args))\n",
    "    for arg in args:\n",
    "        print(arg)\n",
    "\n",
    "outputData(\"John Smith\", 5, True,  \"Jess\")"
   ]
  },
  {
   "cell_type": "code",
   "execution_count": null,
   "id": "184ae831",
   "metadata": {},
   "outputs": [
    {
     "name": "stdout",
     "output_type": "stream",
     "text": [
      "<class 'dict'>\n",
      "John Smith\n",
      "5\n"
     ]
    }
   ],
   "source": [
    "# using kwargs parameter to take in a dictionary of arbitrary values\n",
    "        # kwargs allows us to take in an arbitrary number of values in a function;\n",
    "        # however, it works as a dictionary with keyword arguments instead. Keyword arguments\n",
    "        # are values passed in with keys, which allow us to access them easily within the function block\n",
    "\n",
    "def outputData(**kwargs):\n",
    "    print(type(kwargs))\n",
    "    print(kwargs[ \"name\" ])\n",
    "    print(kwargs[ \"num\" ])\n",
    "\n",
    "outputData(name = \"John Smith\", num = 5, b = True)"
   ]
  },
  {
   "cell_type": "markdown",
   "id": "d08c8736",
   "metadata": {},
   "source": [
    "Tuesday Exercises"
   ]
  },
  {
   "cell_type": "code",
   "execution_count": 4,
   "id": "eb17602e",
   "metadata": {},
   "outputs": [
    {
     "name": "stdout",
     "output_type": "stream",
     "text": [
      "True\n"
     ]
    }
   ],
   "source": [
    "#Ask the user to input a word, and pass that word into a function that checks if the word starts with an uppercase. If if does output \"True\",\n",
    "# otherwise \"False\".\n",
    "\n",
    "userinput = input(\"Please provide a word: \")\n",
    "\n",
    "def uptool():\n",
    "    capitalletters = \"ABCDEFGHIJKLMNOPQRSTUVWXYZ\"\n",
    "    if userinput[0] in capitalletters:\n",
    "        print(\"True\")\n",
    "    else:\n",
    "        print(\"False\")\n",
    "\n",
    "uptool()"
   ]
  },
  {
   "cell_type": "code",
   "execution_count": 8,
   "id": "5cc1f35c",
   "metadata": {},
   "outputs": [],
   "source": [
    "def uptool():\n",
    "    if userinput[0].isupper():\n",
    "        print(\"True\")\n",
    "    else:\n",
    "        print(\"False\")"
   ]
  },
  {
   "cell_type": "code",
   "execution_count": 15,
   "id": "ef3a9227",
   "metadata": {},
   "outputs": [
    {
     "name": "stdout",
     "output_type": "stream",
     "text": [
      "Andres \n",
      " Leon\n",
      "Andres Leon\n",
      "No name passed in\n"
     ]
    }
   ],
   "source": [
    "# Define a function that takes in two arguments, first_name and last_name, and make both optional. If no values are passed into the parameters\n",
    "# it should output \"No name passed in\"; otherwise, it should print out the name.\n",
    "\n",
    "def name(first_name=\"\", last_name=\"\"):\n",
    "    if not first_name and not last_name:\n",
    "        print(\"No name passed in\")\n",
    "    else:\n",
    "        print(\"{} {}\".format(first_name, last_name))\n",
    "\n",
    "name(\"Andres\")\n",
    "name(\"\",\"Leon\")\n",
    "name(\"Andres\", \"Leon\")\n",
    "name()"
   ]
  },
  {
   "cell_type": "code",
   "execution_count": 11,
   "id": "48085304",
   "metadata": {},
   "outputs": [
    {
     "name": "stdout",
     "output_type": "stream",
     "text": [
      "Andres\n",
      "Andres Leon\n",
      "Leon\n",
      "No name passed in\n"
     ]
    }
   ],
   "source": [
    "def print_name(first_name=None, last_name=None):            # Makes both parameters optional\n",
    "    if not first_name and not last_name:\n",
    "        print(\"No name passed in\")\n",
    "    else:\n",
    "        full_name = f\"{first_name or ''} {last_name or ''}\".strip()\n",
    "        print(full_name)\n",
    "\n",
    "print_name(\"Andres\")\n",
    "print_name(\"Andres\", \"Leon\")\n",
    "print_name(\"Leon\")\n",
    "print_name(\"\")"
   ]
  },
  {
   "cell_type": "markdown",
   "id": "205d1695",
   "metadata": {},
   "source": [
    "Wednesday: Return Statement\n",
    "\n",
    "is used to send information back to where the function call occurred."
   ]
  },
  {
   "cell_type": "code",
   "execution_count": 16,
   "id": "ebf7d8fa",
   "metadata": {},
   "outputs": [
    {
     "name": "stdout",
     "output_type": "stream",
     "text": [
      "10.0\n",
      "20\n"
     ]
    }
   ],
   "source": [
    "# using return keyword to return the sum of two numbers\n",
    "\n",
    "def addNums(num1, num2):\n",
    "    return num1 + num2\n",
    "num = addNums(5.5, 4.5)             # saves the returned value into num\n",
    "print(num)\n",
    "print(addNums(10, 10))              # doesn't save the returned value"
   ]
  },
  {
   "cell_type": "code",
   "execution_count": 21,
   "id": "bf5f37c9",
   "metadata": {},
   "outputs": [
    {
     "name": "stdout",
     "output_type": "stream",
     "text": [
      "None\n"
     ]
    }
   ],
   "source": [
    "def test_addNums(num1, num2):\n",
    "    num1 + num2\n",
    "\n",
    "test_addNums(5.5, 4.5)\n",
    "test_num = test_addNums(5.5, 4.5)\n",
    "print(test_num)"
   ]
  },
  {
   "cell_type": "code",
   "execution_count": 22,
   "id": "a10f72d2",
   "metadata": {},
   "outputs": [
    {
     "name": "stdout",
     "output_type": "stream",
     "text": [
      "True\n"
     ]
    }
   ],
   "source": [
    "# shorhand syntax using a ternary operator\n",
    "\n",
    "def searchList(aList, el):\n",
    "    return True if el in aList else False\n",
    "result = searchList([\"one\", 2, \"three\"], 2)\n",
    "print(result)"
   ]
  },
  {
   "cell_type": "code",
   "execution_count": 23,
   "id": "405b6e90",
   "metadata": {},
   "outputs": [
    {
     "name": "stdout",
     "output_type": "stream",
     "text": [
      "True\n"
     ]
    }
   ],
   "source": [
    "def searchList(aList, el):\n",
    "    if el in aList:\n",
    "        return True\n",
    "    else:\n",
    "        return False\n",
    "result = searchList([\"one\", 2, \"three\"], 2)\n",
    "print(result)"
   ]
  },
  {
   "cell_type": "markdown",
   "id": "ee34a123",
   "metadata": {},
   "source": [
    "Wednesday Exercises"
   ]
  },
  {
   "cell_type": "code",
   "execution_count": null,
   "id": "5e55a001",
   "metadata": {},
   "outputs": [
    {
     "name": "stdout",
     "output_type": "stream",
     "text": [
      "AndresLeon\n"
     ]
    }
   ],
   "source": [
    "# Create a function that takes in a first and last name and returns the two names joined together.\n",
    "\n",
    "def joining(first_name=None, last_name=None):\n",
    "    print(\"{} {}\".format(first_name,last_name))\n",
    "\n",
    "joining(\"Andres\",\"Leon\")"
   ]
  },
  {
   "cell_type": "code",
   "execution_count": null,
   "id": "f1a38f19",
   "metadata": {},
   "outputs": [
    {
     "name": "stdout",
     "output_type": "stream",
     "text": [
      "AndresLeon\n"
     ]
    }
   ],
   "source": [
    "def joining(first_name=None, last_name=None):\n",
    "    return \"{} {}\".format(first_name,last_name)\n",
    "name = joining(\"Andres\",\"Leon\")\n",
    "print(name)"
   ]
  },
  {
   "cell_type": "code",
   "execution_count": 5,
   "id": "d4579513",
   "metadata": {},
   "outputs": [
    {
     "name": "stdout",
     "output_type": "stream",
     "text": [
      "hola\n"
     ]
    }
   ],
   "source": [
    "# Within a function, ask for user input. Have this function return that input to be stored in a variable outside of the function. Then\n",
    "# print out the output.\n",
    "\n",
    "def userInput():\n",
    "    return input(\"Please provide a word: \").lower()\n",
    "\n",
    "word_input = userInput()\n",
    "print(word_input)\n",
    "    "
   ]
  },
  {
   "cell_type": "markdown",
   "id": "bc762ee9",
   "metadata": {},
   "source": [
    "Thursday: Scope\n",
    "    - This concept deals with accessibility of variables declared within a program\n",
    "    - there are three types of scope: \n",
    "            # Global scope is when you declare a variable to be accessible to an entire file or application\n",
    "            # Function scope is in reference to variables being declared and accessible only within functions\n",
    "            # Class scope"
   ]
  },
  {
   "cell_type": "code",
   "execution_count": null,
   "id": "77d81253",
   "metadata": {},
   "outputs": [
    {
     "ename": "UnboundLocalError",
     "evalue": "cannot access local variable 'number' where it is not associated with a value",
     "output_type": "error",
     "traceback": [
      "\u001b[1;31m---------------------------------------------------------------------------\u001b[0m",
      "\u001b[1;31mUnboundLocalError\u001b[0m                         Traceback (most recent call last)",
      "Cell \u001b[1;32mIn[6], line 7\u001b[0m\n\u001b[0;32m      4\u001b[0m \u001b[38;5;28;01mdef\u001b[39;00m \u001b[38;5;21mscopeTest\u001b[39m():\n\u001b[0;32m      5\u001b[0m     number \u001b[38;5;241m+\u001b[39m\u001b[38;5;241m=\u001b[39m \u001b[38;5;241m1\u001b[39m             \u001b[38;5;66;03m# not accessible due to function level scope\u001b[39;00m\n\u001b[1;32m----> 7\u001b[0m scopeTest()\n",
      "Cell \u001b[1;32mIn[6], line 5\u001b[0m, in \u001b[0;36mscopeTest\u001b[1;34m()\u001b[0m\n\u001b[0;32m      4\u001b[0m \u001b[38;5;28;01mdef\u001b[39;00m \u001b[38;5;21mscopeTest\u001b[39m():\n\u001b[1;32m----> 5\u001b[0m     number \u001b[38;5;241m+\u001b[39m\u001b[38;5;241m=\u001b[39m \u001b[38;5;241m1\u001b[39m\n",
      "\u001b[1;31mUnboundLocalError\u001b[0m: cannot access local variable 'number' where it is not associated with a value"
     ]
    }
   ],
   "source": [
    "# where global variables can be accessed\n",
    "\n",
    "number = 5                  # Even when you declare a variable accessible to the entire file, it will not be accessible within the function\n",
    "def scopeTest():\n",
    "    number += 1             # not accessible due to function level scope\n",
    "\n",
    "scopeTest()             # We’ll end up receiving an error because the function is limited to variables declared within it or passed in"
   ]
  },
  {
   "cell_type": "code",
   "execution_count": 7,
   "id": "8638d83d",
   "metadata": {},
   "outputs": [
    {
     "name": "stdout",
     "output_type": "stream",
     "text": [
      "function\n"
     ]
    }
   ],
   "source": [
    "# accessing varibles defined in a function\n",
    "\n",
    "def scopeTest():\n",
    "    word = \"function\"\n",
    "    return word\n",
    "\n",
    "value = scopeTest()\n",
    "print(value)"
   ]
  },
  {
   "cell_type": "code",
   "execution_count": 8,
   "id": "a9256653",
   "metadata": {},
   "outputs": [
    {
     "name": "stdout",
     "output_type": "stream",
     "text": [
      "Before altering: ['baseball', 'football', 'hockey', 'basketbal']\n",
      "After altering: ['soccer', 'football', 'hockey', 'basketbal']\n"
     ]
    }
   ],
   "source": [
    "# changing list item values by index\n",
    "\n",
    "sports = [\"baseball\", \"football\", \"hockey\", \"basketbal\"]\n",
    "\n",
    "def change(aList):\n",
    "    aList[0] = \"soccer\"\n",
    "\n",
    "print(\"Before altering: {}\".format(sports))\n",
    "change(sports)\n",
    "print(\"After altering: {}\".format(sports))"
   ]
  },
  {
   "cell_type": "markdown",
   "id": "404b4d64",
   "metadata": {},
   "source": [
    "Thursday Exercises"
   ]
  },
  {
   "cell_type": "code",
   "execution_count": null,
   "id": "04d301c9",
   "metadata": {},
   "outputs": [
    {
     "ename": "SyntaxError",
     "evalue": "invalid syntax (3529330931.py, line 9)",
     "output_type": "error",
     "traceback": [
      "\u001b[1;36m  Cell \u001b[1;32mIn[11], line 9\u001b[1;36m\u001b[0m\n\u001b[1;33m    return aList[index] = name\u001b[0m\n\u001b[1;37m                        ^\u001b[0m\n\u001b[1;31mSyntaxError\u001b[0m\u001b[1;31m:\u001b[0m invalid syntax\n"
     ]
    }
   ],
   "source": [
    "# Create a function that will change the list passed in with a parameter of name at a given index. Such that if I were to pass in \"Bill\" and index 1,\n",
    "# it would change \"Rich\" to \"Bill\". Use the list and function in the following:\n",
    "            # names = [\"Bob\", \"Rich\", \"Amanda\"]\n",
    "            # def changeValue(aList, name, index):\n",
    "\n",
    "names = [\"Bob\", \"Rich\", \"Amanda\"]\n",
    "\n",
    "def changeValue(aList, name, index):\n",
    "    return aList[index] = name                # issue in your code is that you are trying to assign a value inside a return statement, which is not allowed in Python.\n",
    "                                              # return is used to send a value back from a function, but you can't perform an assignment (=) within a return statement\n",
    "\n",
    "print(\"Before altering: {}\".format(names))\n",
    "mod_names = changeValue(names, \"Bill\", 1)\n",
    "print(mod_names)\n"
   ]
  },
  {
   "cell_type": "code",
   "execution_count": 17,
   "id": "5dd80ad9",
   "metadata": {},
   "outputs": [
    {
     "name": "stdout",
     "output_type": "stream",
     "text": [
      "Before altering: ['Bob', 'Rich', 'Amanda']\n",
      "After altering: ['Bob', 'Bill', 'Amanda']\n",
      "Original list is modified: ['Bob', 'Bill', 'Amanda']\n"
     ]
    }
   ],
   "source": [
    "# Create a function that will change the list passed in with a parameter of name at a given index. Such that if I were to pass in \"Bill\" and index 1,\n",
    "# it would change \"Rich\" to \"Bill\". Use the list and function in the following:\n",
    "            # names = [\"Bob\", \"Rich\", \"Amanda\"]\n",
    "            # def changeValue(aList, name, index):\n",
    "\n",
    "names = [\"Bob\", \"Rich\", \"Amanda\"]\n",
    "\n",
    "def changeValue(aList, name, index):\n",
    "    aList[index] = name\n",
    "    return aList\n",
    "\n",
    "print(\"Before altering: {}\".format(names))\n",
    "mod_names = changeValue(names, \"Bill\", 1)\n",
    "print(\"After altering: {}\".format(mod_names))               \n",
    "print(\"Original list is modified: {}\".format(names))                                        # the 'name' list has been modified."
   ]
  },
  {
   "cell_type": "code",
   "execution_count": 16,
   "id": "66d201f1",
   "metadata": {},
   "outputs": [
    {
     "name": "stdout",
     "output_type": "stream",
     "text": [
      "Before altering: ['Bob', 'Rich', 'Amanda']\n",
      "After altering: ['Bob', 'Bill', 'Amanda']\n",
      "Original list remains unchanged: ['Bob', 'Rich', 'Amanda']\n"
     ]
    }
   ],
   "source": [
    "# How to avoid modifying the original list\n",
    "\n",
    "names = [\"Bob\", \"Rich\", \"Amanda\"]\n",
    "\n",
    "def changeValue(aList, name, index):\n",
    "    new_list = aList.copy()                 # Make a shallow copy of the original list\n",
    "    new_list[index] = name                  # Modify the copy\n",
    "    return new_list                         # Return the modified copy\n",
    "\n",
    "print(\"Before altering: {}\".format(names))\n",
    "mod_names = changeValue(names, \"Bill\", 1)\n",
    "print(\"After altering: {}\".format(mod_names))\n",
    "print(\"Original list remains unchanged: {}\".format(names))"
   ]
  },
  {
   "cell_type": "markdown",
   "id": "1bed7375",
   "metadata": {},
   "source": [
    "Friday: Creating a Shopping Car"
   ]
  },
  {
   "cell_type": "code",
   "execution_count": 19,
   "id": "eae2f230",
   "metadata": {},
   "outputs": [
    {
     "name": "stdout",
     "output_type": "stream",
     "text": [
      "Here is your cart:\n",
      "- Fresas\n"
     ]
    }
   ],
   "source": [
    "# import necessay functions\n",
    "from IPython.display import clear_output\n",
    "\n",
    "# global list variable\n",
    "cart = []\n",
    "\n",
    "# create function to add items to cart\n",
    "def addItem(item):\n",
    "    clear_output()\n",
    "    cart.append(item)\n",
    "    print(\"{} has been added.\".format(item))\n",
    "\n",
    "# create function to remove items from cart\n",
    "def removeItem(item):\n",
    "    clear_output()\n",
    "    try:\n",
    "        car.remove(item)\n",
    "        print(\"{} has been removed.\".format(item))\n",
    "    except:\n",
    "        print(\"sorry we could not remove that item.\")\n",
    "\n",
    "# create a function to show items in cart\n",
    "def showCart():\n",
    "    clear_output()\n",
    "    if cart:\n",
    "        print(\"Here is your cart:\")\n",
    "        for item in cart:\n",
    "            print(\"- {}\".format(item))\n",
    "    else:\n",
    "        print(\"Your car is empty.\")\n",
    "\n",
    "# create function to clear items from cart\n",
    "def clearCart():\n",
    "    clear_output()\n",
    "    cart.clear()\n",
    "    print(\"Your cart is empty.\")\n",
    "\n",
    "# create main function that loops until the user quits\n",
    "def main():\n",
    "    done = False\n",
    "\n",
    "    while not done:\n",
    "        ans = input(\"quit/add/remove/show/clear:\").lower()\n",
    "\n",
    "        # base case\n",
    "        if ans == \"quit\":\n",
    "            print(\"Thanks for using our program.\")\n",
    "            showCart()\n",
    "            done = True\n",
    "        elif ans == \"add\":\n",
    "            item = input(\"What would you like to add?\").title()\n",
    "            addItem(item)\n",
    "        elif ans == \"remove\":\n",
    "            showCart()\n",
    "            item = input(\"What would you like to remove? \").title()\n",
    "            removeItem(item)\n",
    "        elif ans == \"show\":\n",
    "            showCart()\n",
    "        elif ans == \"clear\":\n",
    "            clearCart()\n",
    "        else:\n",
    "            print(\"Sorry that was not an option.\")\n",
    "\n",
    "main()          # run the programm"
   ]
  },
  {
   "cell_type": "code",
   "execution_count": null,
   "id": "8f4ba6a4",
   "metadata": {},
   "outputs": [],
   "source": []
  }
 ],
 "metadata": {
  "kernelspec": {
   "display_name": "base",
   "language": "python",
   "name": "python3"
  },
  "language_info": {
   "codemirror_mode": {
    "name": "ipython",
    "version": 3
   },
   "file_extension": ".py",
   "mimetype": "text/x-python",
   "name": "python",
   "nbconvert_exporter": "python",
   "pygments_lexer": "ipython3",
   "version": "3.12.4"
  }
 },
 "nbformat": 4,
 "nbformat_minor": 5
}
