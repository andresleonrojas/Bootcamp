{
 "cells": [
  {
   "cell_type": "code",
   "execution_count": 1,
   "metadata": {},
   "outputs": [],
   "source": [
    "# Comments & Basic Data Types\n",
    "    # Comments are notes you left behind that facilitates the reading of a program, they are not read by the interpreter.\n",
    "\n",
    "# This is a comment"
   ]
  },
  {
   "cell_type": "code",
   "execution_count": 2,
   "metadata": {},
   "outputs": [
    {
     "name": "stdout",
     "output_type": "stream",
     "text": [
      "Hello\n"
     ]
    }
   ],
   "source": [
    "print(\"Hello\")          # This is also a comment"
   ]
  },
  {
   "cell_type": "code",
   "execution_count": 4,
   "metadata": {},
   "outputs": [
    {
     "name": "stdout",
     "output_type": "stream",
     "text": [
      "Hello\n"
     ]
    }
   ],
   "source": [
    "\"\"\"\n",
    "This is a multi-line comment\n",
    "\"\"\"\n",
    "print(\"Hello\")         # this is also a comment"
   ]
  },
  {
   "cell_type": "code",
   "execution_count": 5,
   "metadata": {},
   "outputs": [
    {
     "name": "stdout",
     "output_type": "stream",
     "text": [
      "2\n",
      "10\n"
     ]
    }
   ],
   "source": [
    "# print statement = python function to output information to the user\n",
    "\n",
    "# the following are all integers\n",
    "print(2)\n",
    "print(10)"
   ]
  },
  {
   "cell_type": "code",
   "execution_count": 7,
   "metadata": {},
   "outputs": [
    {
     "name": "stdout",
     "output_type": "stream",
     "text": [
      "10.973\n",
      "8.0\n"
     ]
    }
   ],
   "source": [
    "# the following are all floats\n",
    "print(10.973)\n",
    "print(8.0)              # even this number is a float"
   ]
  },
  {
   "cell_type": "code",
   "execution_count": 8,
   "metadata": {},
   "outputs": [
    {
     "name": "stdout",
     "output_type": "stream",
     "text": [
      "True\n",
      "False\n"
     ]
    }
   ],
   "source": [
    "# the following are booleans\n",
    "print(True)\n",
    "print(False)"
   ]
  },
  {
   "cell_type": "code",
   "execution_count": 10,
   "metadata": {},
   "outputs": [
    {
     "name": "stdout",
     "output_type": "stream",
     "text": [
      " \n",
      "There's a snake in my boot!\n",
      "True\n"
     ]
    }
   ],
   "source": [
    "# the following are strings\n",
    "\n",
    "print(\" \")\n",
    "print(\"There's a snake in my boot!\")\n",
    "print('True')"
   ]
  },
  {
   "cell_type": "markdown",
   "metadata": {},
   "source": [
    "# Monday Exercises"
   ]
  },
  {
   "cell_type": "code",
   "execution_count": 12,
   "metadata": {},
   "outputs": [
    {
     "name": "stdout",
     "output_type": "stream",
     "text": [
      "Andres Felipe Leon Rojas\n"
     ]
    }
   ],
   "source": [
    "# Print out your name\n",
    " \n",
    "print(\"Andres Felipe Leon Rojas\")"
   ]
  },
  {
   "cell_type": "code",
   "execution_count": 16,
   "metadata": {},
   "outputs": [
    {
     "name": "stdout",
     "output_type": "stream",
     "text": [
      "<class 'int'>\n"
     ]
    }
   ],
   "source": [
    "# Try checking the type of a value by using the type() method.\n",
    "\n",
    "print(type(8))    # this will output <class 'int'>"
   ]
  },
  {
   "cell_type": "markdown",
   "metadata": {},
   "source": [
    "# Tuesday: Variables\n",
    "Variables allow us to save values into memory using a name that we assign"
   ]
  },
  {
   "cell_type": "code",
   "execution_count": null,
   "metadata": {},
   "outputs": [],
   "source": [
    "first_name = \"John\"        \n",
    "# This step is called \"declaration\". We declared a variable (case sensitive) with a name and assigned a value (data type). This data is stored in memorry, and we can access it by calling the variable name."
   ]
  },
  {
   "cell_type": "code",
   "execution_count": 17,
   "metadata": {},
   "outputs": [
    {
     "name": "stdout",
     "output_type": "stream",
     "text": [
      "5 8.4\n"
     ]
    }
   ],
   "source": [
    "num1 = 5        # storing an integer into a variable\n",
    "num2 = 8.4      # storing a float into a variable\n",
    "print(num1, num2)       # you can print multiple items using commas\n"
   ]
  },
  {
   "cell_type": "code",
   "execution_count": 18,
   "metadata": {},
   "outputs": [
    {
     "name": "stdout",
     "output_type": "stream",
     "text": [
      "True\n"
     ]
    }
   ],
   "source": [
    "# Storing a boolean into a variable\n",
    "\n",
    "switch = True\n",
    "print(switch)"
   ]
  },
  {
   "cell_type": "code",
   "execution_count": 21,
   "metadata": {},
   "outputs": [
    {
     "name": "stdout",
     "output_type": "stream",
     "text": [
      "John Smith 9\n",
      "<class 'str'> <class 'str'>\n"
     ]
    }
   ],
   "source": [
    "# storing strings into a variable\n",
    "\n",
    "name = \"John Smith\"\n",
    "fav_number = \"9\"\n",
    "print(name,fav_number)              # will print 9 next to the name\n",
    "print(type(name),type(fav_number))"
   ]
  },
  {
   "cell_type": "code",
   "execution_count": 22,
   "metadata": {},
   "outputs": [
    {
     "name": "stdout",
     "output_type": "stream",
     "text": [
      "13.4\n"
     ]
    }
   ],
   "source": [
    "# using two varibles to create another variable\n",
    "result = num1 + num2\n",
    "print(result)"
   ]
  },
  {
   "cell_type": "code",
   "execution_count": 23,
   "metadata": {},
   "outputs": [
    {
     "name": "stdout",
     "output_type": "stream",
     "text": [
      "14.4\n",
      "72.0\n"
     ]
    }
   ],
   "source": [
    "# adding, deleting, multiplying, dividing from a variable\n",
    "\n",
    "result += 1             # same as saying result = result + 1\n",
    "print(result)\n",
    "result *= num1          # same as saying result = result * num1\n",
    "print(result)"
   ]
  },
  {
   "cell_type": "code",
   "execution_count": 24,
   "metadata": {},
   "outputs": [
    {
     "name": "stdout",
     "output_type": "stream",
     "text": [
      "John\n",
      "Sam\n"
     ]
    }
   ],
   "source": [
    "# defining a variable and overwriting it's value\n",
    "name = \"John\"\n",
    "print(name)\n",
    "name = \"Sam\"\n",
    "print(name)"
   ]
  },
  {
   "cell_type": "code",
   "execution_count": 25,
   "metadata": {},
   "outputs": [],
   "source": [
    "name = \"John Smith\""
   ]
  },
  {
   "cell_type": "markdown",
   "metadata": {},
   "source": [
    "# Tuesday Exercises"
   ]
  },
  {
   "cell_type": "code",
   "execution_count": 29,
   "metadata": {},
   "outputs": [
    {
     "name": "stdout",
     "output_type": "stream",
     "text": [
      "30\n",
      "3 * 10 = 30\n"
     ]
    }
   ],
   "source": [
    "# Store the value 3 in a variable called \"x\" and the value 10 in a variable called \"y\". Saved the result of x*y into a separate varible called \"result\". Finally, output the information.\n",
    "\n",
    "x = 3\n",
    "y = 10\n",
    "result = x*y\n",
    "print(result)\n",
    "print(\"{} * {} = {}\".format(x,y,result))"
   ]
  },
  {
   "cell_type": "code",
   "execution_count": 30,
   "metadata": {},
   "outputs": [
    {
     "name": "stdout",
     "output_type": "stream",
     "text": [
      "3108.5364\n"
     ]
    }
   ],
   "source": [
    "# Calculate the area of a 245.54\" * 12.66\" rectangle. Print out the result.\n",
    "\n",
    "x = 245.54\n",
    "y = 12.66\n",
    "area = x*y\n",
    "print(area)"
   ]
  },
  {
   "cell_type": "markdown",
   "metadata": {},
   "source": [
    "# Wednesday: Working with Strings   "
   ]
  },
  {
   "cell_type": "code",
   "execution_count": null,
   "metadata": {},
   "outputs": [
    {
     "name": "stdout",
     "output_type": "stream",
     "text": [
      "John Smith\n"
     ]
    }
   ],
   "source": [
    "# using the addition operator without variables. String concatenation refers to add one string to the end of another\n",
    "\n",
    "name = \"John\" + \" \" + \"Smith\"\n",
    "print(name)"
   ]
  },
  {
   "cell_type": "code",
   "execution_count": 32,
   "metadata": {},
   "outputs": [
    {
     "name": "stdout",
     "output_type": "stream",
     "text": [
      "John Smith\n"
     ]
    }
   ],
   "source": [
    "# using the addition operator with variables\n",
    "first_name = \"John\"\n",
    "last_name = \"Smith\"\n",
    "full_name = first_name + \" \" + last_name\n",
    "print(full_name)"
   ]
  },
  {
   "cell_type": "code",
   "execution_count": 33,
   "metadata": {},
   "outputs": [
    {
     "name": "stdout",
     "output_type": "stream",
     "text": [
      "Hello John\n",
      "Hello John, you are 34 years old!\n"
     ]
    }
   ],
   "source": [
    "# Injecting variables using the format method\n",
    "\n",
    "name = \"John\"\n",
    "print(\"Hello {}\".format(name))\n",
    "print(\"Hello {}, you are {} years old!\".format(name, 34))"
   ]
  },
  {
   "cell_type": "code",
   "execution_count": 35,
   "metadata": {},
   "outputs": [
    {
     "name": "stdout",
     "output_type": "stream",
     "text": [
      "Hello John\n"
     ]
    }
   ],
   "source": [
    "# Using the new f strings (for Python 3.6)\n",
    "\n",
    "name = \"John\"\n",
    "print(f\"Hello {name}\")"
   ]
  },
  {
   "cell_type": "code",
   "execution_count": 36,
   "metadata": {},
   "outputs": [
    {
     "name": "stdout",
     "output_type": "stream",
     "text": [
      "Hello, John\n"
     ]
    }
   ],
   "source": [
    "# one major difference between versions 2 & 3\n",
    "\n",
    "name = \"John\"\n",
    "print(\"Hello, %s\"%name)"
   ]
  },
  {
   "cell_type": "code",
   "execution_count": 37,
   "metadata": {},
   "outputs": [
    {
     "name": "stdout",
     "output_type": "stream",
     "text": [
      "Hello, John Smith\n"
     ]
    }
   ],
   "source": [
    "# python 2 mutiple varible formatting\n",
    "\n",
    "first_name = \"John\"\n",
    "last_name = \"Smith\"\n",
    "print(\"Hello, %s %s\"%(first_name,last_name))            # surround the variables in parenthesis"
   ]
  },
  {
   "cell_type": "code",
   "execution_count": 39,
   "metadata": {},
   "outputs": [
    {
     "name": "stdout",
     "output_type": "stream",
     "text": [
      "H\n",
      "e\n",
      "o\n",
      "o\n",
      "e\n"
     ]
    }
   ],
   "source": [
    "# String index\n",
    "# An index is essentially a location in memory. Indexing starts at 0 not 1.\n",
    "\n",
    "word = \"Hello\"\n",
    "print(word[0])\n",
    "print(word[1])\n",
    "print(word[4])\n",
    "print(word[-1])\n",
    "print(word[-4])"
   ]
  },
  {
   "cell_type": "code",
   "execution_count": 40,
   "metadata": {},
   "outputs": [
    {
     "name": "stdout",
     "output_type": "stream",
     "text": [
      "He\n"
     ]
    }
   ],
   "source": [
    "print(word[0:2])"
   ]
  },
  {
   "cell_type": "code",
   "execution_count": 41,
   "metadata": {},
   "outputs": [
    {
     "name": "stdout",
     "output_type": "stream",
     "text": [
      "Hlo\n"
     ]
    }
   ],
   "source": [
    "print(word[ 0 : 5 : 2])                 # will output \"Hlo\""
   ]
  },
  {
   "cell_type": "markdown",
   "metadata": {},
   "source": [
    "# Wednesday Exercises   "
   ]
  },
  {
   "cell_type": "code",
   "execution_count": 44,
   "metadata": {},
   "outputs": [
    {
     "name": "stdout",
     "output_type": "stream",
     "text": [
      "23 4.5 False John\n",
      "23 4.5 False John\n"
     ]
    }
   ],
   "source": [
    "# Create a print statement that injects an integer, float, boolean, and string all into one line. The output should look like \"23 4.5 False John\"\n",
    "\n",
    "integ = 23\n",
    "fl = 4.5\n",
    "boolean = False\n",
    "string = \"John\"\n",
    "\n",
    "print( f\"{integ} {fl} {boolean} {string}\" )\n",
    "print( \"{} {} {} {}\" . format (integ , fl , boolean , string ) )\n"
   ]
  },
  {
   "cell_type": "code",
   "execution_count": 45,
   "metadata": {},
   "outputs": [
    {
     "name": "stdout",
     "output_type": "stream",
     "text": [
      "Andres's favourite sports is soccer\n",
      "Andres is working in python programming!\n"
     ]
    }
   ],
   "source": [
    "# Using the format method, fill in the following blanks by assigning your name and favorite activities into variables.\n",
    "\n",
    "name = \"Andres\"\n",
    "activity = \"soccer\"\n",
    "activity_2 = \"python\"\n",
    "print(\"{}'s favourite sports is {}\".format(name,activity))\n",
    "print(\"{} is working in {} programming!\".format(name,activity_2))"
   ]
  },
  {
   "cell_type": "markdown",
   "metadata": {},
   "source": [
    "# Thursday: String Manipulation"
   ]
  },
  {
   "cell_type": "code",
   "execution_count": 47,
   "metadata": {},
   "outputs": [
    {
     "name": "stdout",
     "output_type": "stream",
     "text": [
      "John Smith\n",
      "john smith\n",
      "JOHN SMITH\n"
     ]
    }
   ],
   "source": [
    "# using the title method to capitalize a string\n",
    "\n",
    "name = \"john smith\"\n",
    "print(name.title())\n",
    "print(name.lower())\n",
    "print(name.upper())"
   ]
  },
  {
   "cell_type": "code",
   "execution_count": 52,
   "metadata": {},
   "outputs": [
    {
     "name": "stdout",
     "output_type": "stream",
     "text": [
      "Hello there.\n",
      "Hola there!\n",
      "Hello there!\n",
      "Hola there!\n"
     ]
    }
   ],
   "source": [
    "# replacing an exclamation point with a pepriod\n",
    "\n",
    "words = \"Hello there!\"\n",
    "print(words.replace(\"!\",\".\"))\n",
    "print(words.replace(\"Hello\",\"Hola\"))\n",
    "print(words)\n",
    "\n",
    "words_2 = words.replace(\"Hello\",\"Hola\")\n",
    "print(words_2)"
   ]
  },
  {
   "cell_type": "code",
   "execution_count": 53,
   "metadata": {},
   "outputs": [
    {
     "name": "stdout",
     "output_type": "stream",
     "text": [
      "5\n"
     ]
    }
   ],
   "source": [
    "# finding the starting index of our searchced term\n",
    "\n",
    "s = \"Look over that way\"\n",
    "print(s.find(\"over\"))"
   ]
  },
  {
   "cell_type": "code",
   "execution_count": 57,
   "metadata": {},
   "outputs": [
    {
     "name": "stdout",
     "output_type": "stream",
     "text": [
      "    john   leon   \n",
      "john   leon\n",
      "john   leon   \n",
      "    john   leon\n"
     ]
    }
   ],
   "source": [
    "# removing white space with strip\n",
    "\n",
    "name = \"    john   leon   \"\n",
    "print(name)\n",
    "print(name.strip())\n",
    "print(name.lstrip())\n",
    "print(name.rstrip())"
   ]
  },
  {
   "cell_type": "code",
   "execution_count": 58,
   "metadata": {},
   "outputs": [
    {
     "name": "stdout",
     "output_type": "stream",
     "text": [
      "['These', 'words', 'are', 'separated', 'by', 'spaces']\n"
     ]
    }
   ],
   "source": [
    "# converting a string into a list of words\n",
    "\n",
    "s = \"These words are separated by spaces\"\n",
    "print(s.split())"
   ]
  },
  {
   "cell_type": "markdown",
   "metadata": {},
   "source": [
    "# Thursday Exercises"
   ]
  },
  {
   "cell_type": "code",
   "execution_count": 59,
   "metadata": {},
   "outputs": [
    {
     "name": "stdout",
     "output_type": "stream",
     "text": [
      "uppercase\n",
      "UPPERCASE\n"
     ]
    }
   ],
   "source": [
    "# Try manipulating the string \"uppercase\" so it prints out as all uppercase letters.\n",
    "\n",
    "variable = \"uppercase\"\n",
    "print(variable)\n",
    "\n",
    "print(variable.upper())"
   ]
  },
  {
   "cell_type": "code",
   "execution_count": 60,
   "metadata": {},
   "outputs": [
    {
     "name": "stdout",
     "output_type": "stream",
     "text": [
      "$$John Smith\n",
      "John Smith\n",
      "John Smith\n"
     ]
    }
   ],
   "source": [
    "# Strip all the dollar signs from the left side of this string \"$$John Smith\". Try with .lstrip() and .strip()\n",
    "\n",
    "variable = \"$$John Smith\"\n",
    "print(variable)\n",
    "print(variable.strip(\"$$\"))\n",
    "print(variable.lstrip(\"$$\"))"
   ]
  },
  {
   "cell_type": "markdown",
   "metadata": {},
   "source": [
    "# Friday: Creating a Receipt Printing Program"
   ]
  },
  {
   "cell_type": "code",
   "execution_count": 76,
   "metadata": {},
   "outputs": [
    {
     "name": "stdout",
     "output_type": "stream",
     "text": [
      "**************************************************\n",
      "\t\tCoding Temple, Inc.\n",
      "\t\t283 Franklin St.\n",
      "\t\tMelbourne, VIC\n",
      "==================================================\n",
      "\tProduct Name\tProduct Price\n",
      "\tBooks\t\t$49.95\n",
      "\tComputer\t$579.99\n",
      "\tMonitor\t\t$124.89\n",
      "==================================================\n",
      "\t\t\tTotal\n",
      "\t\t\t$754.83\n",
      "==================================================\n",
      "\n",
      "\tThanks for shopping with us today\n",
      "\n",
      "**************************************************\n"
     ]
    }
   ],
   "source": [
    "# create a product and price for three items\n",
    "p1_name, p1_price = \"Books\", 49.95\n",
    "p2_name, p2_price = \"Computer\", 579.99\n",
    "p3_name, p3_price = \"Monitor\", 124.89\n",
    "\n",
    "# create a company name and information\n",
    "company_name = \"coding temple, Inc.\"\n",
    "company_address = \"283 Franklin St.\"\n",
    "company_city = \"Melbourne, VIC\"\n",
    "\n",
    "# declare ending message\n",
    "message = \"Thanks for shopping with us today\"\n",
    "\n",
    "# create a top border\n",
    "print(\"*\"*50)\n",
    "\n",
    "# print company information first, using format\n",
    "print(\"\\t\\t{}\".format(company_name.title()))\n",
    "print(\"\\t\\t{}\".format(company_address))\n",
    "print(\"\\t\\t{}\".format(company_city))\n",
    "\n",
    "# print a line between sections\n",
    "print(\"=\"*50)\n",
    "\n",
    "# print out header for section of items\n",
    "print(\"\\tProduct Name\\tProduct Price\")\n",
    "\n",
    "# create a print statement for each product\n",
    "print(\"\\t{}\\t\\t${}\".format(p1_name.title(),p1_price))\n",
    "print(\"\\t{}\\t${}\".format(p2_name.title(),p2_price))\n",
    "print(\"\\t{}\\t\\t${}\".format(p3_name.title(),p3_price))\n",
    "\n",
    "# print a line between sections\n",
    "print(\"=\"*50)\n",
    "\n",
    "# print out the header for sectionj of total\n",
    "print(\"\\t\\t\\tTotal\")\n",
    "\n",
    "# calculate total price and print it out\n",
    "total = p1_price + p2_price + p3_price\n",
    "print(\"\\t\\t\\t${}\".format(total))\n",
    "\n",
    "# print a line between sections\n",
    "print(\"=\"*50)\n",
    "\n",
    "# output thank you message\n",
    "print(\"\\n\\t{}\\n\".format(message))\n",
    "\n",
    "# create a bottom border\n",
    "print(\"*\"*50)"
   ]
  },
  {
   "cell_type": "markdown",
   "metadata": {},
   "source": [
    "# Weekly Challenges"
   ]
  },
  {
   "cell_type": "code",
   "execution_count": 112,
   "metadata": {},
   "outputs": [
    {
     "name": "stdout",
     "output_type": "stream",
     "text": [
      "**************************************************\n",
      "*\t\tCoding Temple, Inc.\t\t *\n",
      "*\t\t283 Franklin St.\t\t *\n",
      "*\t\tMelbourne, VIC\t\t\t *\n",
      "==================================================\n",
      "*\tProduct Name\tProduct Price\t\t *\n",
      "*\tBooks\t\t$49.95\t\t\t *\n",
      "*\tComputer\t$579.99\t\t\t *\n",
      "*\tMonitor\t\t$124.89\t\t\t *\n",
      "==================================================\n",
      "*\t\t\tTotal\t\t\t *\n",
      "*\t\t\t$754.83\t\t\t *\n",
      "==================================================\n",
      "*\t\t\t\t\t\t *\n",
      "*\tThanks for shopping with us today\t *\n",
      "*\t\t\t\t\t\t *\n",
      "**************************************************\n"
     ]
    }
   ],
   "source": [
    "# Try adding a star border on the sides of the Friday Project.\n",
    "\n",
    "# create a product and price for three items\n",
    "p1_name, p1_price = \"Books\", 49.95\n",
    "p2_name, p2_price = \"Computer\", 579.99\n",
    "p3_name, p3_price = \"Monitor\", 124.89\n",
    "\n",
    "# create a company name and information\n",
    "company_name = \"coding temple, Inc.\"\n",
    "company_address = \"283 Franklin St.\"\n",
    "company_city = \"Melbourne, VIC\"\n",
    "\n",
    "# declare ending message\n",
    "message = \"Thanks for shopping with us today\"\n",
    "\n",
    "\n",
    "# create a top border\n",
    "print(\"*\"*50)\n",
    "\n",
    "# print company information first, using format\n",
    "print(\"*\\t\\t{}\\t\\t *\".format(company_name.title()))\n",
    "print(\"*\\t\\t{}\\t\\t *\".format(company_address))\n",
    "print(\"*\\t\\t{}\\t\\t\\t *\".format(company_city))\n",
    "\n",
    "# print a line between sections\n",
    "print(\"=\"*50)\n",
    "\n",
    "# print out header for section of items\n",
    "print(\"*\\tProduct Name\\tProduct Price\\t\\t *\")\n",
    "\n",
    "# create a print statement for each product\n",
    "print(\"*\\t{}\\t\\t${}\\t\\t\\t *\".format(p1_name.title(),p1_price))\n",
    "print(\"*\\t{}\\t${}\\t\\t\\t *\".format(p2_name.title(),p2_price))\n",
    "print(\"*\\t{}\\t\\t${}\\t\\t\\t *\".format(p3_name.title(),p3_price))\n",
    "\n",
    "# print a line between sections\n",
    "print(\"=\"*50)\n",
    "\n",
    "# print out the header for sectionj of total\n",
    "print(\"*\\t\\t\\tTotal\\t\\t\\t *\")\n",
    "\n",
    "# calculate total price and print it out\n",
    "total = p1_price + p2_price + p3_price\n",
    "print(\"*\\t\\t\\t${}\\t\\t\\t *\".format(total))\n",
    "\n",
    "# print a line between sections\n",
    "print(\"=\"*50)\n",
    "\n",
    "# output thank you message\n",
    "print(\"*\\t\\t\\t\\t\\t\\t *\\n*\\t{}\\t *\\n*\\t\\t\\t\\t\\t\\t *\".format(message))\n",
    "\n",
    "# create a bottom border\n",
    "print(\"*\"*50)"
   ]
  },
  {
   "cell_type": "code",
   "execution_count": null,
   "metadata": {},
   "outputs": [
    {
     "name": "stdout",
     "output_type": "stream",
     "text": [
      "Andres leon\n",
      "andres leon\n",
      "andres leon\n",
      "1\n",
      "b'andres leon'\n",
      "False\n",
      "andres rojas\n"
     ]
    }
   ],
   "source": [
    "# Try looking for additional string manipulation methods.\n",
    "\n",
    "name = \"andres leon\"\n",
    "print(name.capitalize())            # converts the first character to upper case\n",
    "print(name.casefold())              # converts string into lower case\n",
    "print(name.center(0))                # returns a centered string\n",
    "print(name.count(\"andres\"))         # returns the number of times a specified value occurs in a string\n",
    "print(name.encode())                # returns an encoded version of the string\n",
    "print(name.endswith(\"p\"))           # returns true if the string ends with the specified value\n",
    "print(name.replace(\"leon\",\"rojas\")) # returns a string where a specified value is replaced  with a specified value"
   ]
  },
  {
   "cell_type": "code",
   "execution_count": 81,
   "metadata": {},
   "outputs": [
    {
     "name": "stdout",
     "output_type": "stream",
     "text": [
      "olleH\n"
     ]
    }
   ],
   "source": [
    "# Declare a variable equal to \"Hello\". Reverse the string using slicing.\n",
    "\n",
    "variable = \"Hello\"\n",
    "print(variable[::-1])"
   ]
  },
  {
   "cell_type": "code",
   "execution_count": null,
   "metadata": {},
   "outputs": [],
   "source": []
  }
 ],
 "metadata": {
  "kernelspec": {
   "display_name": "base",
   "language": "python",
   "name": "python3"
  },
  "language_info": {
   "codemirror_mode": {
    "name": "ipython",
    "version": 3
   },
   "file_extension": ".py",
   "mimetype": "text/x-python",
   "name": "python",
   "nbconvert_exporter": "python",
   "pygments_lexer": "ipython3",
   "version": "3.12.4"
  }
 },
 "nbformat": 4,
 "nbformat_minor": 2
}
