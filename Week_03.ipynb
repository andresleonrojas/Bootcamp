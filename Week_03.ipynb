{
 "cells": [
  {
   "cell_type": "markdown",
   "id": "f99bcbcd",
   "metadata": {},
   "source": [
    "# Week 03: USER INPUT AND CONDITIONALS"
   ]
  },
  {
   "cell_type": "code",
   "execution_count": 1,
   "id": "3932e275",
   "metadata": {},
   "outputs": [
    {
     "ename": "NameError",
     "evalue": "name 'element' is not defined",
     "output_type": "error",
     "traceback": [
      "\u001b[1;31m---------------------------------------------------------------------------\u001b[0m",
      "\u001b[1;31mNameError\u001b[0m                                 Traceback (most recent call last)",
      "Cell \u001b[1;32mIn[1], line 3\u001b[0m\n\u001b[0;32m      1\u001b[0m \u001b[38;5;66;03m# Challenge Question\u001b[39;00m\n\u001b[1;32m----> 3\u001b[0m \u001b[38;5;28mprint\u001b[39m(\u001b[38;5;124m\"\u001b[39m\u001b[38;5;132;01m{}\u001b[39;00m\u001b[38;5;124m is my favorite sport\u001b[39m\u001b[38;5;124m\"\u001b[39m\u001b[38;5;241m.\u001b[39mformat(element))\n\u001b[0;32m      4\u001b[0m element \u001b[38;5;241m=\u001b[39m \u001b[38;5;124m\"\u001b[39m\u001b[38;5;124mFootball\u001b[39m\u001b[38;5;124m\"\u001b[39m\n",
      "\u001b[1;31mNameError\u001b[0m: name 'element' is not defined"
     ]
    }
   ],
   "source": [
    "# Challenge Question\n",
    "\n",
    "print(\"{} is my favorite sport\".format(element))\n",
    "element = \"Football\""
   ]
  },
  {
   "cell_type": "code",
   "execution_count": 2,
   "id": "ddceb7ad",
   "metadata": {},
   "outputs": [
    {
     "name": "stdout",
     "output_type": "stream",
     "text": [
      "Football is my favorite sport\n"
     ]
    }
   ],
   "source": [
    "element = \"Football\"\n",
    "print(\"{} is my favorite sport\".format(element))"
   ]
  },
  {
   "cell_type": "markdown",
   "id": "5cde0b58",
   "metadata": {},
   "source": [
    "Monday: User Input and Type Converting"
   ]
  },
  {
   "cell_type": "code",
   "execution_count": null,
   "id": "baa8626a",
   "metadata": {},
   "outputs": [
    {
     "name": "stdout",
     "output_type": "stream",
     "text": [
      "Andres\n"
     ]
    }
   ],
   "source": [
    "# accepting and outputting user input\n",
    "\n",
    "print(input(\"What is your name?\"))              # Information entered in the INPUT function is taken into the program as a string.\n"
   ]
  },
  {
   "cell_type": "code",
   "execution_count": 4,
   "id": "ebac69a0",
   "metadata": {},
   "outputs": [
    {
     "name": "stdout",
     "output_type": "stream",
     "text": [
      "Hello Andres!\n"
     ]
    }
   ],
   "source": [
    "# Saving what the user inputs\n",
    "\n",
    "ans = input(\"What is your name?\")\n",
    "print(\"Hello {}!\".format(ans))"
   ]
  },
  {
   "cell_type": "code",
   "execution_count": 5,
   "id": "fd6cb467",
   "metadata": {},
   "outputs": [
    {
     "name": "stdout",
     "output_type": "stream",
     "text": [
      "<class 'int'>\n"
     ]
    }
   ],
   "source": [
    "# how to check the data type of a variable\n",
    "num = 5\n",
    "print(type(num))"
   ]
  },
  {
   "cell_type": "code",
   "execution_count": null,
   "id": "e5eb7c90",
   "metadata": {},
   "outputs": [
    {
     "name": "stdout",
     "output_type": "stream",
     "text": [
      "<class 'str'>\n",
      "<class 'int'>\n"
     ]
    }
   ],
   "source": [
    "# Converting a variable from one data type to another\n",
    "num = \"9\"               # This is a string\n",
    "print(type(num))\n",
    "num = int(num)          # re-declaring num to store an integer\n",
    "print(type(num))        # checking type to make sure conversion worked\n",
    "\n",
    "# Function 'int', 'str', 'float', 'bool' can be used to perform the data type conversion. Not all data types can e converted properly.\n"
   ]
  },
  {
   "cell_type": "code",
   "execution_count": 2,
   "id": "22384f6b",
   "metadata": {},
   "outputs": [
    {
     "name": "stdout",
     "output_type": "stream",
     "text": [
      "<class 'str'>\n",
      "100 + 8 = 108\n",
      "<class 'str'>\n"
     ]
    }
   ],
   "source": [
    "# Converting User Input\n",
    "# Working with user input to perform calculations\n",
    "\n",
    "ans = input(\"Type a number to add:\")\n",
    "print(type(ans))                    # default type is string, must convert\n",
    "result = 100 + int(ans)\n",
    "print (\"100 + {} = {}\".format(ans, result))\n",
    "print(type(ans))\n",
    "\n"
   ]
  },
  {
   "cell_type": "code",
   "execution_count": 4,
   "id": "dee5fc64",
   "metadata": {},
   "outputs": [
    {
     "name": "stdout",
     "output_type": "stream",
     "text": [
      "You did not put in a valid number!\n",
      "The program did not break! Congratulations :)\n"
     ]
    }
   ],
   "source": [
    "# Handling Errors\n",
    "# Using the try and except blocks, use tab to indent where necessary\n",
    "\n",
    "try:\n",
    "    ans = float(input(\"Type a number to add: \"))            # The string input will be converted into a float data type and stored in the function ans\n",
    "    print(\"100 + {} = {}\".formtat(ans, 100 + ans))\n",
    "except:\n",
    "    print(\"You did not put in a valid number!\")             # without try/except print statement would not get hit if error occurs\n",
    "print(\"The program did not break! Congratulations :)\")"
   ]
  },
  {
   "cell_type": "code",
   "execution_count": 6,
   "id": "09b33ef9",
   "metadata": {},
   "outputs": [
    {
     "name": "stdout",
     "output_type": "stream",
     "text": [
      "True\n",
      "<class 'bool'>\n"
     ]
    }
   ],
   "source": [
    "# Monday Exercises\n",
    "\n",
    "# Try converting a strin of \"True\" to a boolean, and then output its type to make sure it converted properly\n",
    "ans = \"True\"\n",
    "ans2 = bool(ans)\n",
    "print(ans2)\n",
    "print(type(ans2))"
   ]
  },
  {
   "cell_type": "code",
   "execution_count": 9,
   "id": "4daeaa5c",
   "metadata": {},
   "outputs": [
    {
     "name": "stdout",
     "output_type": "stream",
     "text": [
      "You did not put in a valid number\n"
     ]
    }
   ],
   "source": [
    "# Create to input statements, and ask the user to enter two numbers. Print the sum of these two numbers out.\n",
    "\n",
    "try:\n",
    "    num1 = int(input(\"Please provide a number: \"))\n",
    "    num2 = int(input(\"Please provide a second number: \"))\n",
    "    total = num1 + num2\n",
    "    print(\"{} + {} = {}\".format(num1,num2,total))\n",
    "    print(\"The program did not break! Congratulations :)\")\n",
    "except:\n",
    "    print(\"You did not put in a valid number\")\n"
   ]
  },
  {
   "cell_type": "code",
   "execution_count": 11,
   "id": "d79a5e68",
   "metadata": {},
   "outputs": [
    {
     "name": "stdout",
     "output_type": "stream",
     "text": [
      "So, you have a 2013 Toyota Corolla White car\n"
     ]
    }
   ],
   "source": [
    "# Ask the user to input the year, make, model, and color of their car, and print a nicely formatted statement like \"2018 Blue Chevrolet Silverado\"\n",
    "\n",
    "car = input(\"When was your car manufactured?\")\n",
    "make = input(\"Which company made it?\")\n",
    "model = input(\"What model do you have?\")\n",
    "color = input(\"What color is your car?\")\n",
    "print(\"So, you have a {} {} {} {} car\".format(car,make,model,color))"
   ]
  },
  {
   "cell_type": "markdown",
   "id": "aa685e11",
   "metadata": {},
   "source": [
    "# Tuesday: If Statements"
   ]
  },
  {
   "cell_type": "code",
   "execution_count": null,
   "id": "afad1dad",
   "metadata": {},
   "outputs": [
    {
     "name": "stdout",
     "output_type": "stream",
     "text": [
      "x is less than y\n"
     ]
    }
   ],
   "source": [
    "# You check a condition, and if that condition is true, you perform the task, and if it’s not true, then you move on without performing that task.\n",
    "\n",
    "# Using a If statement to only run code if the condition is met\n",
    "\n",
    "x,y = 5,10\n",
    "if x < y:\n",
    "    print(\"x is less than y\")                   # The if statement checks to see if the given condition is True or False. If the condition is True, then the code block runs."
   ]
  },
  {
   "cell_type": "code",
   "execution_count": 14,
   "id": "ddfbf766",
   "metadata": {},
   "outputs": [
    {
     "name": "stdout",
     "output_type": "stream",
     "text": [
      "x is bigger than y\n"
     ]
    }
   ],
   "source": [
    "x,y = 5,10\n",
    "if x > y:\n",
    "    print(\"x is less than y\")\n",
    "else:\n",
    "    print(\"x is bigger than y\")"
   ]
  },
  {
   "cell_type": "code",
   "execution_count": 16,
   "id": "b84e98d8",
   "metadata": {},
   "outputs": [
    {
     "name": "stdout",
     "output_type": "stream",
     "text": [
      "Nice try!\n"
     ]
    }
   ],
   "source": [
    "# Checking user input \n",
    "ans = int( input(\"What is 5 + 5?\"))\n",
    "if ans == 10:\n",
    "    print(\"You got it right!\")\n",
    "else:\n",
    "    print(\"Nice try!\")"
   ]
  },
  {
   "cell_type": "code",
   "execution_count": null,
   "id": "0f24aa15",
   "metadata": {},
   "outputs": [
    {
     "name": "stdout",
     "output_type": "stream",
     "text": [
      "Both statements were true\n"
     ]
    }
   ],
   "source": [
    "# using the keyword 'and' in an 'if statement'\n",
    "\n",
    "x,y,z = 5,10,5\n",
    "if x < y and x == z:            # The “and” logical operator is to ensure that, when you check multiple conditions, both sides of the condition are True\n",
    "    print(\"Both statements were true\")"
   ]
  },
  {
   "cell_type": "code",
   "execution_count": null,
   "id": "68dda042",
   "metadata": {},
   "outputs": [
    {
     "name": "stdout",
     "output_type": "stream",
     "text": [
      "One or both statement were true\n"
     ]
    }
   ],
   "source": [
    "# Using the keyword 'or' in an 'if statement' \n",
    "\n",
    "x,y,z = 5,10,5\n",
    "if x < y or x != z:                     # The “or” logical operator is used to check for one or both conditions to be true\n",
    "    print(\"One or both statement were true\")"
   ]
  },
  {
   "cell_type": "code",
   "execution_count": null,
   "id": "7ec0cb28",
   "metadata": {},
   "outputs": [
    {
     "name": "stdout",
     "output_type": "stream",
     "text": [
      "Flag is False\n"
     ]
    }
   ],
   "source": [
    "# using the keyword 'not' within an 'if statement'\n",
    "\n",
    "flag = False\n",
    "if not flag:                # same as saying if not true. We get the same result if we erite if flag == False\n",
    "    print(\"Flag is False\")"
   ]
  },
  {
   "cell_type": "code",
   "execution_count": null,
   "id": "b32ea5b9",
   "metadata": {},
   "outputs": [
    {
     "name": "stdout",
     "output_type": "stream",
     "text": [
      "Baseball contains the character b\n"
     ]
    }
   ],
   "source": [
    "\n",
    "# using the keyword 'in' within an 'if statement'\n",
    "\n",
    "word = \"Baseball\"\n",
    "if \"b\" in word:                 # When you want to check if a given object has a value appear in it, you use the “in” operator\n",
    "    print(\"{} contains the character b\".format(word))"
   ]
  },
  {
   "cell_type": "code",
   "execution_count": 21,
   "id": "25992030",
   "metadata": {},
   "outputs": [
    {
     "name": "stdout",
     "output_type": "stream",
     "text": [
      "Baseball does not contain the character x\n"
     ]
    }
   ],
   "source": [
    "# using the keyword 'not in' within an 'if statement' \n",
    "\n",
    "word = \"Baseball\"\n",
    "if \"x\" not in word:\n",
    "    print(\"{} does not contain the character x\".format(word))"
   ]
  },
  {
   "cell_type": "code",
   "execution_count": 23,
   "id": "904acb4c",
   "metadata": {},
   "outputs": [
    {
     "name": "stdout",
     "output_type": "stream",
     "text": [
      "The 'luna' work does not contain the 'es' characters\n"
     ]
    }
   ],
   "source": [
    "# Tuesday Exercises\n",
    "\n",
    "# Ask the user for input, and check to see if what they wrote includes an \"es\"\n",
    "\n",
    "word = input(\"Please provide a single word:\")\n",
    "if \"es\" in word:\n",
    "    print(\"The '{}' word contains the characters 'es'\".format(word))\n",
    "else:\n",
    "    print(\"The '{}' work does not contain the 'es' characters\".format(word))"
   ]
  },
  {
   "cell_type": "code",
   "execution_count": 27,
   "id": "231a2a7b",
   "metadata": {},
   "outputs": [
    {
     "name": "stdout",
     "output_type": "stream",
     "text": [
      "serdna\n",
      "The word does not have an 'ing' at the end\n"
     ]
    }
   ],
   "source": [
    "# Ask the user for input, and check to see if what they wrote has an \"ing\" at the end. Hint: use slicing\n",
    "\n",
    "word = input(\"Please provide a single word:\")\n",
    "print(word[::-1])\n",
    "if \"gni\" in word[::-1]:\n",
    "    print(\"The '{}' word has an 'ing' at the end\".format(word))\n",
    "else:\n",
    "    print(\"The word does not have an 'ing' at the end\")"
   ]
  },
  {
   "cell_type": "code",
   "execution_count": 3,
   "id": "1329bf16",
   "metadata": {},
   "outputs": [
    {
     "name": "stdout",
     "output_type": "stream",
     "text": [
      "diana\n",
      "andres\n",
      "The two words are different.\n"
     ]
    }
   ],
   "source": [
    "# Ask the user to input two words, and write a conditional statement to check if both words are the same. Make it case insensitive so that capitals do not matter.\n",
    "word1 = input(\"Please provide a word: \").lower()\n",
    "print(word1)            # to remove afterward\n",
    "word2 = input(\"Please provide another word: \").lower()\n",
    "print(word2)\n",
    "if word1 == word2:\n",
    "    print(\"Both words are the same.\")\n",
    "else:\n",
    "    print(\"The two words are different.\")"
   ]
  },
  {
   "cell_type": "code",
   "execution_count": 10,
   "id": "abfbe48f",
   "metadata": {},
   "outputs": [
    {
     "name": "stdout",
     "output_type": "stream",
     "text": [
      "Your input is not a valid number character!\n"
     ]
    }
   ],
   "source": [
    "# Ask t4he user to input a number, and return that number squared if it is lower than 10. Hint: investigate arthmetic expressions for exponents. www.w3schools.com/python/python_operators.asp\n",
    "\n",
    "try:\n",
    "    number = int(input(\"Please provide a number: \"))\n",
    "    operation = number**2\n",
    "    if number < 10:\n",
    "        print(\"The square of {} is {}\".format(number, operation))\n",
    "    else:\n",
    "        print(\"We are sorry, we can compute the square of that number.\")\n",
    "except:\n",
    "    print(\"Your input is not a valid number character!\")"
   ]
  },
  {
   "cell_type": "markdown",
   "id": "6f89aa9a",
   "metadata": {},
   "source": [
    "Wednesday: Elif Statement\n",
    "- use to declare another decision based on a given condition\n",
    "- Elif statements must be associated with an if statement. All elif statements are connected to one original if statement, so that once a single conditional is True, the rest do not run\n",
    "- It works so that the first conditional to return True is the only block of code that runs."
   ]
  },
  {
   "cell_type": "code",
   "execution_count": 11,
   "id": "9ed9f112",
   "metadata": {},
   "outputs": [
    {
     "name": "stdout",
     "output_type": "stream",
     "text": [
      "x is less\n"
     ]
    }
   ],
   "source": [
    "# Using the elif conditional statement\n",
    "\n",
    "x,y = 5,10\n",
    "if x > y:\n",
    "    print(\"x is greater\")\n",
    "elif x < y:\n",
    "    print(\"x is less\")"
   ]
  },
  {
   "cell_type": "code",
   "execution_count": 12,
   "id": "2b984561",
   "metadata": {},
   "outputs": [
    {
     "name": "stdout",
     "output_type": "stream",
     "text": [
      "equal\n"
     ]
    }
   ],
   "source": [
    "# checking more than one elif conditional statement\n",
    "\n",
    "x,y = 5, 10\n",
    "if x > y:\n",
    "    print(\"x is greater\")\n",
    "elif (x + 10) < y:              # checking if 15 is less than 10\n",
    "    print(\"x is less\")\n",
    "elif (x + 5) == y:\n",
    "    print(\"equal\")              # checking if 10 is equal to 10"
   ]
  },
  {
   "cell_type": "code",
   "execution_count": null,
   "id": "6146734c",
   "metadata": {},
   "outputs": [
    {
     "name": "stdout",
     "output_type": "stream",
     "text": [
      "greater\n"
     ]
    }
   ],
   "source": [
    "# writing multiple conditionals within each other - multiple block levels\n",
    "\n",
    "x, y, z = 5, 10, 5\n",
    "if x > y:\n",
    "    print(\"greater\")                                    # the initial if statement returns False, thus this code will be skipped\n",
    "elif x <= y:\n",
    "    if x == z:\n",
    "        print(\"x is equal to z\")                        #resulting output\n",
    "    elif x != z:\n",
    "        print(\"x is not equal to z\")                    # won't get hit\n"
   ]
  },
  {
   "cell_type": "code",
   "execution_count": 15,
   "id": "ea9df8b7",
   "metadata": {},
   "outputs": [
    {
     "name": "stdout",
     "output_type": "stream",
     "text": [
      "x is less\n",
      "x is equal\n"
     ]
    }
   ],
   "source": [
    "# testing output of two if statements in a row that are both true\n",
    "\n",
    "x, y, z = 5, 10 , 5\n",
    "if x < y:\n",
    "    print(\"x is less\")\n",
    "if x == z:\n",
    "    print(\"x is equal\")"
   ]
  },
  {
   "cell_type": "code",
   "execution_count": 16,
   "id": "ab480f62",
   "metadata": {},
   "outputs": [
    {
     "name": "stdout",
     "output_type": "stream",
     "text": [
      "x is less\n"
     ]
    }
   ],
   "source": [
    "# testing output of an if and elif statemnent that are both true\n",
    "\n",
    "x, y, z = 5, 10, 5\n",
    "if x < y:\n",
    "    print(\"x is less\")\n",
    "elif x == z:\n",
    "    print (\"x is equal to z\")"
   ]
  },
  {
   "cell_type": "markdown",
   "id": "41b3b33f",
   "metadata": {},
   "source": [
    "Wednesday Exercises"
   ]
  },
  {
   "cell_type": "code",
   "execution_count": 19,
   "id": "8d2d2740",
   "metadata": {},
   "outputs": [
    {
     "name": "stdout",
     "output_type": "stream",
     "text": [
      "You chose 101\n",
      "The number is higher than 100\n"
     ]
    }
   ],
   "source": [
    "# Ask the user to input a number. Type convert that number, and use an if/elif statement to print whether it's higher or lower than 100.\n",
    "\n",
    "number = int(input(\"Please provide a number: \"))\n",
    "print(\"You chose {}\".format(number))\n",
    "if number > 100:\n",
    "    print(\"The number is higher than 100\")\n",
    "elif number == 100:\n",
    "    print(\"Your number is equal to 100\")\n",
    "elif number < 100:\n",
    "    print(\"Your number is lower than 100\")"
   ]
  },
  {
   "cell_type": "code",
   "execution_count": null,
   "id": "2474a289",
   "metadata": {},
   "outputs": [],
   "source": [
    "# Given the following code, fix any/all errors in order to make it output \"lower\":\n",
    "\n",
    "x, y = 5, 10\n",
    "if x > y:\n",
    "    print(\"greater\")\n",
    "try x < y:\n",
    "    print(\"lower\")"
   ]
  },
  {
   "cell_type": "code",
   "execution_count": 20,
   "id": "72e49942",
   "metadata": {},
   "outputs": [
    {
     "name": "stdout",
     "output_type": "stream",
     "text": [
      "lower\n"
     ]
    }
   ],
   "source": [
    "x, y = 5, 10\n",
    "if x > y:\n",
    "    print(\"greater\")\n",
    "elif x < y:\n",
    "    print(\"lower\")"
   ]
  },
  {
   "cell_type": "markdown",
   "id": "53ec46f0",
   "metadata": {},
   "source": [
    "Else Statements\n",
    "will cover all other possibilities not covered and will always run the code if the program gets to it. This means that if an elif or if statement were to return True, then it would never run the else; however, if they all\n",
    "return False, then the else clause would run no matter what every time\n",
    "-needs to always be associated with an original if statement\n",
    "-covers all other possibilities, so you don’t need to write a condition at all"
   ]
  },
  {
   "cell_type": "code",
   "execution_count": 2,
   "id": "12b158f9",
   "metadata": {},
   "outputs": [
    {
     "name": "stdout",
     "output_type": "stream",
     "text": [
      "Hello John!\n"
     ]
    }
   ],
   "source": [
    "# using an else statement\n",
    "\n",
    "name = \"John\"\n",
    "if name == \"Jacob\":\n",
    "    print(\"Hello Jacob!\")\n",
    "else:\n",
    "    print(\"Hello {}!\".format(name))"
   ]
  },
  {
   "cell_type": "code",
   "execution_count": 4,
   "id": "ceb4d1f8",
   "metadata": {},
   "outputs": [
    {
     "name": "stdout",
     "output_type": "stream",
     "text": [
      "Name starts with a J\n"
     ]
    }
   ],
   "source": [
    "# writing a full conditional statement with if, elif, else\n",
    "\n",
    "name = \"John\"\n",
    "if name[0] == \"A\":\n",
    "    print(\"Name starts with an A\")\n",
    "elif name[0] == \"B\":\n",
    "    print(\"Name starts with a B\")\n",
    "elif name[0] == \"J\":\n",
    "    print(\"Name starts with a J\")\n",
    "else:                                                   # covers all other possibilities\n",
    "    print(\"Name starts with a {}\".format(name[0]))"
   ]
  },
  {
   "cell_type": "markdown",
   "id": "6c82fcc0",
   "metadata": {},
   "source": [
    "Thursday Exercises"
   ]
  },
  {
   "cell_type": "code",
   "execution_count": null,
   "id": "fe3bf3f9",
   "metadata": {},
   "outputs": [],
   "source": [
    "# Given the following code, fix any/all errors so that it outputs \"Hello John\" correctly.\n",
    "\n",
    "name = \"John\"\n",
    "if name == \"Jack\":\n",
    "    print(\"Hello Jack\")\n",
    "elif:\n",
    "    print(\"Hello John\")"
   ]
  },
  {
   "cell_type": "code",
   "execution_count": 5,
   "id": "f65f65d6",
   "metadata": {},
   "outputs": [
    {
     "name": "stdout",
     "output_type": "stream",
     "text": [
      "Hello John\n"
     ]
    }
   ],
   "source": [
    "name = \"John\"\n",
    "if name == \"Jack\":\n",
    "    print(\"Hello Jack\")\n",
    "else:\n",
    "    print(\"Hello {}\".format(name))"
   ]
  },
  {
   "cell_type": "code",
   "execution_count": 11,
   "id": "ff3b2976",
   "metadata": {},
   "outputs": [
    {
     "name": "stdout",
     "output_type": "stream",
     "text": [
      "Good evening!\n"
     ]
    }
   ],
   "source": [
    "# Ask the user to input the time of day in military time without a colon (1100 = 11:00 AM). Write a conditional statement so that it outputs the following:\n",
    "        # (1) \"good moorning\" if less than 1200\n",
    "        # (2) \"Good Afternoon\" if between 1200 and 1700\n",
    "        # (3) \"Good Evening\" if equal or above 1700\n",
    "\n",
    "time = int(input(\"What time is it (military time)?\"))\n",
    "if time < 1200:\n",
    "    print(\"Good morning!\")\n",
    "elif time >= 1200 and time < 1700:\n",
    "    print(\"Good afternoon!\")\n",
    "else:\n",
    "    print(\"Good evening!\")"
   ]
  },
  {
   "cell_type": "markdown",
   "id": "050da16d",
   "metadata": {},
   "source": [
    "Friday: Creating a Calculator"
   ]
  },
  {
   "cell_type": "code",
   "execution_count": null,
   "id": "66888f99",
   "metadata": {},
   "outputs": [
    {
     "name": "stdout",
     "output_type": "stream",
     "text": [
      "You chose divide.\n",
      "You chose divide.\n",
      "Please keep in mind that the order of your numbers matter.\n",
      "First number: 9\n",
      "Second number: 0\n",
      "Error: Improper numbers used, Please try again.\n"
     ]
    }
   ],
   "source": [
    "# Step 1: Ask user for calculation to be performed\n",
    " \n",
    "operation = input(\"Would you like to add/substract/multiply/divide?\").lower()    # to avoid case sensitive issues\n",
    "print(\"You chose {}.\".format(operation))                                         # for testing purposes\n",
    "\n",
    "# Step 2: ask for numbers, alert order matters for substracting and dividing\n",
    "\n",
    "if operation == \"substract\" or operation == \"divide\":\n",
    "    print(\"You chose {}.\".format(operation))\n",
    "    print(\"Please keep in mind that the order of your numbers matter.\")\n",
    "num1 = input(\"What is the first number?\")\n",
    "num2 = input(\"What is the second number?\")\n",
    "print(\"First number: {}\".format(num1))                  # for testing purposes\n",
    "print(\"Second number: {}\".format(num2))                 # for testing purposes\n",
    "\n",
    "# Step 3: setup try/except for mathematical operation\n",
    "\n",
    "try:                                                                                # avoids the program breaks in case of an error\n",
    "    #step 3a: immediately try to convert numbers input to floats\n",
    "    num1,num2 =float(num1), float(num2)\n",
    "    # step 3b: perform operation and print results\n",
    "    if operation == \"add\":\n",
    "        result = num1 + num2\n",
    "        print(\"{} + {} = {}\".format(num1,num2,result))\n",
    "    elif operation == \"substract\":\n",
    "        result = num1 - num2\n",
    "        print(\"{} - {} = {}\".format(num1, num2, result))\n",
    "    elif operation == \"multiply\":\n",
    "        result = num1 * num2\n",
    "        print(\"{} * {} = {}\".format(num1, num2, result))\n",
    "    elif operation == \"divide\":\n",
    "        result = num1 / num2\n",
    "        print(\"{} / {} = {}\".format(num1, num2, result))\n",
    "except:\n",
    "    # step 3c: print error\n",
    "    print(\"Error: Improper numbers used, Please try again.\")\n",
    "\n"
   ]
  },
  {
   "cell_type": "code",
   "execution_count": 18,
   "id": "99df5fe4",
   "metadata": {},
   "outputs": [
    {
     "name": "stdout",
     "output_type": "stream",
     "text": [
      "5.0 + 6.0 = 11.0\n"
     ]
    }
   ],
   "source": [
    "# Step 1: Ask user for calculation to be performed\n",
    " \n",
    "operation = input(\"Would you like to add/substract/multiply/divide?\").lower()    # to avoid case sensitive issues\n",
    "\n",
    "# Step 2: ask for numbers, alert order matters for substracting and dividing\n",
    "\n",
    "if operation == \"substract\" or operation == \"divide\":\n",
    "    print(\"You chose {}.\".format(operation))\n",
    "    print(\"Please keep in mind that the order of your numbers matter.\")\n",
    "num1 = input(\"What is the first number?\")\n",
    "num2 = input(\"What is the second number?\")\n",
    "\n",
    "# Step 3: setup try/except for mathematical operation\n",
    "\n",
    "try:                                                                                # avoids the program breaks in case of an error\n",
    "    #step 3a: immediately try to convert numbers input to floats\n",
    "    num1,num2 =float(num1), float(num2)\n",
    "    # step 3b: perform operation and print results\n",
    "    if operation == \"add\":\n",
    "        result = num1 + num2\n",
    "        print(\"{} + {} = {}\".format(num1,num2,result))\n",
    "    elif operation == \"substract\":\n",
    "        result = num1 - num2\n",
    "        print(\"{} - {} = {}\".format(num1, num2, result))\n",
    "    elif operation == \"multiply\":\n",
    "        result = num1 * num2\n",
    "        print(\"{} * {} = {}\".format(num1, num2, result))\n",
    "    elif operation == \"divide\":\n",
    "        result = num1 / num2\n",
    "        print(\"{} / {} = {}\".format(num1, num2, result))\n",
    "except:\n",
    "    # step 3c: print error\n",
    "    print(\"Error: Improper numbers used, Please try again.\")"
   ]
  },
  {
   "cell_type": "code",
   "execution_count": 20,
   "id": "d05ee219",
   "metadata": {},
   "outputs": [
    {
     "name": "stdout",
     "output_type": "stream",
     "text": [
      "6.0 * 50.0 = 300.0\n"
     ]
    }
   ],
   "source": [
    "# Step 1: Ask user for calculation to be performed\n",
    " \n",
    "operation = input(\"Would you like to add/substract/multiply/divide?\").lower()    # to avoid case sensitive issues\n",
    "\n",
    "# Step 2: ask for numbers, alert order matters for substracting and dividing. #step 3a: immediately try to convert numbers input to floats\n",
    "\n",
    "if operation == \"substract\" or operation == \"divide\":\n",
    "    print(\"You chose {}.\".format(operation))\n",
    "    print(\"Please keep in mind that the order of your numbers matter.\")\n",
    "num1 = float(input(\"What is the first number?\"))\n",
    "num2 = float(input(\"What is the second number?\"))\n",
    "\n",
    "# Step 3: setup try/except for mathematical operation\n",
    "\n",
    "try:                                                                                # avoids the program breaks in case of an error\n",
    "    # step 3b: perform operation and print results\n",
    "    if operation == \"add\":\n",
    "        result = num1 + num2\n",
    "        print(\"{} + {} = {}\".format(num1,num2,result))\n",
    "    elif operation == \"substract\":\n",
    "        result = num1 - num2\n",
    "        print(\"{} - {} = {}\".format(num1, num2, result))\n",
    "    elif operation == \"multiply\":\n",
    "        result = num1 * num2\n",
    "        print(\"{} * {} = {}\".format(num1, num2, result))\n",
    "    elif operation == \"divide\":\n",
    "        result = num1 / num2\n",
    "        print(\"{} / {} = {}\".format(num1, num2, result))\n",
    "except:\n",
    "    # step 3c: print error\n",
    "    print(\"Error: Improper numbers used, Please try again.\")"
   ]
  },
  {
   "cell_type": "markdown",
   "id": "41aa2305",
   "metadata": {},
   "source": [
    "Weekly Challenge    "
   ]
  },
  {
   "cell_type": "code",
   "execution_count": 21,
   "id": "4a497e36",
   "metadata": {},
   "outputs": [
    {
     "name": "stdout",
     "output_type": "stream",
     "text": [
      "You chose substract.\n",
      "Please keep in mind that the order of your numbers matter.\n",
      "2.0 - 7.0 = -5.0\n"
     ]
    }
   ],
   "source": [
    "# Alter the calculator project so that the order of the numbers doesn't matter.\n",
    "\n",
    "# Step 1: Ask user for calculation to be performed\n",
    " \n",
    "operation = input(\"Would you like to add/substract/multiply/divide?\").lower()    # to avoid case sensitive issues\n",
    "print(\"You chose {}.\".format(operation))\n",
    "# Step 2: ask for numbers, alert order matters for substracting and dividing. #step 3a: immediately try to convert numbers input to floats\n",
    "\n",
    "num1 = float(input(\"What is the first number?\"))\n",
    "num2 = float(input(\"What is the second number?\"))\n",
    "\n",
    "print(\"Please keep in mind that the order of your numbers matter.\")\n",
    "question = input(\"Would you like to change the order (y/n)?\").lower()\n",
    "\n",
    "\n",
    "# Step 3: setup try/except for mathematical operation\n",
    "if question == \"n\":\n",
    "    try:                                                                                # avoids the program breaks in case of an error\n",
    "        # step 3b: perform operation and print results\n",
    "        if operation == \"add\":\n",
    "            result = num1 + num2\n",
    "            print(\"{} + {} = {}\".format(num1,num2,result))\n",
    "        elif operation == \"substract\":\n",
    "            result = num1 - num2\n",
    "            print(\"{} - {} = {}\".format(num1, num2, result))\n",
    "        elif operation == \"multiply\":\n",
    "            result = num1 * num2\n",
    "            print(\"{} * {} = {}\".format(num1, num2, result))\n",
    "        elif operation == \"divide\":\n",
    "            result = num1 / num2\n",
    "            print(\"{} / {} = {}\".format(num1, num2, result))\n",
    "    except:\n",
    "        # step 3c: print error\n",
    "        print(\"Error: Improper numbers used, Please try again.\")\n",
    "\n",
    "elif question == \"y\":\n",
    "    try:                                                                                # avoids the program breaks in case of an error\n",
    "        # step 3b: perform operation and print results\n",
    "        if operation == \"add\":\n",
    "            result = num2 + num1\n",
    "            print(\"{} + {} = {}\".format(num2,num1,result))\n",
    "        elif operation == \"substract\":\n",
    "            result = num2 - num1\n",
    "            print(\"{} - {} = {}\".format(num2, num1, result))\n",
    "        elif operation == \"multiply\":\n",
    "            result = num2 * num1\n",
    "            print(\"{} * {} = {}\".format(num2, num1, result))\n",
    "        elif operation == \"divide\":\n",
    "            result = num2 / num1\n",
    "            print(\"{} / {} = {}\".format(num2, num1, result))\n",
    "    except:\n",
    "        # step 3c: print error\n",
    "        print(\"Error: Improper numbers used, Please try again.\")"
   ]
  },
  {
   "cell_type": "code",
   "execution_count": 23,
   "id": "78493a44",
   "metadata": {},
   "outputs": [
    {
     "name": "stdout",
     "output_type": "stream",
     "text": [
      "Adult\n"
     ]
    }
   ],
   "source": [
    "# Ask the user to input their age. Depending on their input , output one of the following groups.\n",
    "\n",
    "try:\n",
    "    age = int(input(\"How old are you?\"))\n",
    "    if age >= 0 and age <= 12:\n",
    "        print(\"Kid\")\n",
    "    elif age >= 13 and age <= 19:\n",
    "        print(\"Teenager\")\n",
    "    elif age >= 20 and age <= 30:\n",
    "        print(\"Young adult\")\n",
    "    elif age >= 31 and age <= 64:\n",
    "        print(\"Adult\")\n",
    "    else:\n",
    "        print(\"Senior\")\n",
    "\n",
    "except:\n",
    "    print(\"Error: Improper numbers used. Please try again.\")"
   ]
  },
  {
   "cell_type": "code",
   "execution_count": 29,
   "id": "86f2ee43",
   "metadata": {},
   "outputs": [
    {
     "name": "stdout",
     "output_type": "stream",
     "text": [
      "Hello human! I am Cortana, a human-created RPG tool especially designed to help you out with any basic queries. But before that, adn to provide a better service, it is required you provide some basic information.\n",
      "Hello Andres.\n",
      "Adult\n"
     ]
    }
   ],
   "source": [
    "# Create a text-based RPG with a story line. You take tuser input and give them a couple of choices,\n",
    "#  and depending on what they choose, they can go down a different path. You'll use several branching statements depending on the length of the story.\n",
    "\n",
    "print(\"Hello human! I am Cortana, a human-created RPG tool especially designed to help you out with any basic queries. But before that, adn to provide a better service, it is required you provide some basic information.\")\n",
    "\n",
    "\n",
    "# Keep asking until a valid answer is given\n",
    "while True:\n",
    "    question1 = input(\"Would you like to proceed (y/n)?\").strip().lower()           # parenthesis are very important! .strip() (removes accidental spaces)\n",
    "    if question1 in (\"y\", \"n\"):\n",
    "        break\n",
    "    else:\n",
    "        print(\"Invalid input. Please type 'y' for yes or 'n' for no.\")\n",
    "\n",
    "if question1 == \"y\":\n",
    "    name = input(\"What is your name?\").title()\n",
    "    print(\"Hello {}.\".format(name))\n",
    "    \n",
    "    while True:\n",
    "        try:\n",
    "            age = int(input(\"How old are you?\"))\n",
    "            if age >= 0 and age <= 12:\n",
    "                print(\"I see! So you are just a kid\")\n",
    "            elif age >= 13 and age <= 19:\n",
    "                print(\"ummm...Gryffindor! Sorry, I mean you are a teenager\")\n",
    "            elif age >= 20 and age <= 30:\n",
    "                print(\"Young adult\")\n",
    "            elif age >= 31 and age <= 64:\n",
    "                print(\"Adult\")\n",
    "            else:\n",
    "                print(\"Senior\")\n",
    "            break                       #Break the loop if everything goes well\n",
    "        except ValueError:\n",
    "            print(\"Error: Please enter a valid number for your age.\")\n",
    "\n",
    "else:\n",
    "    print(\"Maybe next time!\")\n"
   ]
  },
  {
   "cell_type": "code",
   "execution_count": null,
   "id": "65f3b2d6",
   "metadata": {},
   "outputs": [],
   "source": []
  }
 ],
 "metadata": {
  "kernelspec": {
   "display_name": "base",
   "language": "python",
   "name": "python3"
  },
  "language_info": {
   "codemirror_mode": {
    "name": "ipython",
    "version": 3
   },
   "file_extension": ".py",
   "mimetype": "text/x-python",
   "name": "python",
   "nbconvert_exporter": "python",
   "pygments_lexer": "ipython3",
   "version": "3.12.4"
  }
 },
 "nbformat": 4,
 "nbformat_minor": 5
}
