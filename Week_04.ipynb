{
 "cells": [
  {
   "cell_type": "markdown",
   "id": "833c0e42",
   "metadata": {},
   "source": [
    "Week 04: Lists and Loops\n",
    "\n",
    "Lists will give us the ability to store large sets of data || loops will allow us to rerun sections of our code\n",
    "\n"
   ]
  },
  {
   "cell_type": "code",
   "execution_count": null,
   "id": "14c2a4cb",
   "metadata": {},
   "outputs": [],
   "source": [
    "# Monday: Lists\n",
    "    # A list is a data structure in Python that is a mutable, ordered sequence of elements. \n",
    "    # Each element or value that is inside of a list is called an item\n",
    "    #lists are defined by having different data types between square brackets [ ].\n",
    "    # each item within a list is assigned an index, or location, for where that item is saved in memory.\n",
    "    # Lists can hold any data type, even other lists\n"
   ]
  },
  {
   "cell_type": "code",
   "execution_count": 1,
   "id": "064e45e4",
   "metadata": {},
   "outputs": [
    {
     "name": "stdout",
     "output_type": "stream",
     "text": [
      "[5, 10, 15.2, 10]\n"
     ]
    }
   ],
   "source": [
    "# declaring a list of numbers\n",
    "\n",
    "nums = [5, 10, 15.2, 10]\n",
    "print(nums)"
   ]
  },
  {
   "cell_type": "code",
   "execution_count": 2,
   "id": "9ae38a35",
   "metadata": {},
   "outputs": [
    {
     "name": "stdout",
     "output_type": "stream",
     "text": [
      "10\n",
      "15.2\n"
     ]
    }
   ],
   "source": [
    "# accessing elements within a list\n",
    "\n",
    "print( nums[1] )                # will output the value at index 1 = 10\n",
    "num = nums[2]                   # saves index value 2 into num\n",
    "print(num)                      # prints value assigned to num"
   ]
  },
  {
   "cell_type": "code",
   "execution_count": 3,
   "id": "57b678af",
   "metadata": {},
   "outputs": [
    {
     "name": "stdout",
     "output_type": "stream",
     "text": [
      "[4.3, 'word', True]\n"
     ]
    }
   ],
   "source": [
    "# declaring a list of mixed data types\n",
    "\n",
    "num = 4.3\n",
    "data = [num, \"word\", True]              # the power of data collection\n",
    "print(data)"
   ]
  },
  {
   "cell_type": "code",
   "execution_count": 4,
   "id": "35d205a1",
   "metadata": {},
   "outputs": [
    {
     "name": "stdout",
     "output_type": "stream",
     "text": [
      "[5, 'book', [34, 'hello'], True]\n",
      "[34, 'hello']\n"
     ]
    }
   ],
   "source": [
    "# understanding lists within lists\n",
    "\n",
    "data = [5, \"book\", [34, 'hello'], True]                 # lists can hold any data type\n",
    "print(data)\n",
    "print(data[2])\n"
   ]
  },
  {
   "cell_type": "code",
   "execution_count": null,
   "id": "e7b9efcd",
   "metadata": {},
   "outputs": [
    {
     "name": "stdout",
     "output_type": "stream",
     "text": [
      "34\n",
      "hello\n",
      "k\n"
     ]
    }
   ],
   "source": [
    "# using double bracket notation to access lists within lists\n",
    "\n",
    "data = [5, \"book\", [34, 'hello'], True] \n",
    "\n",
    "print(data[2][0])               # will output 34\n",
    "inner_list = data[2]            # inner list will equal [34, 'hello']\n",
    "print(inner_list[1])            # will output 'hello'\n",
    "print(data[1][3])               # strings can also be indexed further. In this case, we are accessing to the character 'k' (index 3) of the list item indexed at 1 (book)"
   ]
  },
  {
   "cell_type": "code",
   "execution_count": 7,
   "id": "e73025af",
   "metadata": {},
   "outputs": [
    {
     "name": "stdout",
     "output_type": "stream",
     "text": [
      "[5, 10, 15, 20]\n",
      "[100, 10, 15, 20]\n"
     ]
    }
   ],
   "source": [
    "# changing values in a list through index\n",
    "\n",
    "data = [5, 10, 15, 20]\n",
    "print(data)\n",
    "data[0] = 100           # change value at index 0 (from 5 to 100)\n",
    "print(data)"
   ]
  },
  {
   "cell_type": "code",
   "execution_count": null,
   "id": "32605113",
   "metadata": {},
   "outputs": [
    {
     "name": "stdout",
     "output_type": "stream",
     "text": [
      "2796719737728\n"
     ]
    }
   ],
   "source": [
    "# When variables are declared, the value assigned is put into a location in memory. These locations have a specific reference ID.\n",
    "\n",
    "a = [5, 10]\n",
    "print(id(a))                # large number represents location in memory"
   ]
  },
  {
   "cell_type": "code",
   "execution_count": 9,
   "id": "9499afdb",
   "metadata": {},
   "outputs": [
    {
     "name": "stdout",
     "output_type": "stream",
     "text": [
      "a: [5, 10]\t b: [5, 10]\n",
      "Location a[0]: 140730942700088\t b[0]: 140730942700088\n",
      "a: [20, 10]\t b: [20, 10]\n"
     ]
    }
   ],
   "source": [
    "# understanding how lists are stored\n",
    "\n",
    "a = [5, 10]\n",
    "b = a\n",
    "print(\"a: {}\\t b: {}\".format(a, b))\n",
    "print(\"Location a[0]: {}\\t b[0]: {}\".format(id(a[0]), id(b[0])))\n",
    "a[0] = 20               # re-declaring the value of a[0] also changes b[0]\n",
    "print(\"a: {}\\t b: {}\".format(a, b))"
   ]
  },
  {
   "cell_type": "code",
   "execution_count": 13,
   "id": "007a6794",
   "metadata": {},
   "outputs": [
    {
     "name": "stdout",
     "output_type": "stream",
     "text": [
      "data: ['Jesus', 10, 15, 20]\t data_copy: [5, 10, 15, 20]\n",
      "Location data: 2796726955776\t Location data_copy: 2796721469568\n",
      "['Jesus', 10, 15, 20]\n"
     ]
    }
   ],
   "source": [
    "# using [:] to copy a list\n",
    "\n",
    "data = [5, 10, 15, 20]\n",
    "data_copy = data[:]                 # a single colon copies the list. If we modified the data list, it wont affect the values on the data_copy list. They have different locantion in memory.\n",
    "data[0] = \"Jesus\"\n",
    "print(\"data: {}\\t data_copy: {}\".format(data, data_copy))\n",
    "print(\"Location data: {}\\t Location data_copy: {}\".format(id(data), id(data_copy)))\n",
    "\n",
    "data_copy2 = data.copy()\n",
    "print(data_copy2)"
   ]
  },
  {
   "cell_type": "markdown",
   "id": "304269c0",
   "metadata": {},
   "source": [
    " Monday Exercises\n",
    " "
   ]
  },
  {
   "cell_type": "code",
   "execution_count": 14,
   "id": "fde66465",
   "metadata": {},
   "outputs": [
    {
     "name": "stdout",
     "output_type": "stream",
     "text": [
      "I like to play soccer.\n",
      "I like to play tennis.\n",
      "I like to play badminton.\n",
      "I like to play swimming.\n"
     ]
    }
   ],
   "source": [
    "# Define a list of strings, where each string is a sport. Then output each sport with the following line \" I like to play {}\"...\n",
    "\n",
    "sports = [\"soccer\", \"tennis\", \"badminton\", \"swimming\"]\n",
    "print(\"I like to play {}.\".format(sports[0]))\n",
    "print(\"I like to play {}.\".format(sports[1]))\n",
    "print(\"I like to play {}.\".format(sports[2]))\n",
    "print(\"I like to play {}.\".format(sports[3]))"
   ]
  },
  {
   "cell_type": "code",
   "execution_count": 15,
   "id": "9115fbc4",
   "metadata": {},
   "outputs": [
    {
     "name": "stdout",
     "output_type": "stream",
     "text": [
      "J\n",
      "A\n",
      "S\n",
      "K\n"
     ]
    }
   ],
   "source": [
    "# For the following list, print out each item's first letter (output should be 'J', 'A', 'S', 'K')\n",
    "\n",
    "names = [\"John\", \"Abraham\", \"Sam\", \"Kelly\"]\n",
    "\n",
    "print(names[0][0])\n",
    "print(names[1][0])\n",
    "print(names[2][0])\n",
    "print(names[3][0])"
   ]
  },
  {
   "cell_type": "markdown",
   "id": "3ae5a0ff",
   "metadata": {},
   "source": [
    "Tuesday: For Loops\n",
    "Loops are how programmers rerun the same lines of code several times.\n",
    "Loops will always run until a condition is met"
   ]
  },
  {
   "cell_type": "code",
   "execution_count": 16,
   "id": "8c69d34f",
   "metadata": {},
   "outputs": [
    {
     "name": "stdout",
     "output_type": "stream",
     "text": [
      "Value: 0\n",
      "Value: 1\n",
      "Value: 2\n",
      "Value: 3\n",
      "Value: 4\n"
     ]
    }
   ],
   "source": [
    "# writing my first for loop using range\n",
    "\n",
    "for num in range(5):\n",
    "    print(\"Value: {}\".format(num))"
   ]
  },
  {
   "cell_type": "code",
   "execution_count": 17,
   "id": "36b9df96",
   "metadata": {},
   "outputs": [
    {
     "name": "stdout",
     "output_type": "stream",
     "text": [
      "Value: 2\n",
      "Value: 4\n",
      "Value: 6\n",
      "Value: 8\n"
     ]
    }
   ],
   "source": [
    "# Range ()\n",
    "        # Range allows us to count from one number to another while being able to define where to start and end and how much we increment or decrement by.\n",
    "        # range defaults to starting at 0 and increments by 1 each time.\n",
    "\n",
    "# providing the start, stop, and step for the range function\n",
    "\n",
    "for num in range(2, 10, 2):\n",
    "    print(\"Value: {}\".format(num))              # will print all evens between 2 and 10\n",
    "    "
   ]
  },
  {
   "cell_type": "code",
   "execution_count": 18,
   "id": "b6cb291e",
   "metadata": {},
   "outputs": [
    {
     "name": "stdout",
     "output_type": "stream",
     "text": [
      "Value: A\n",
      "Value: n\n",
      "Value: d\n",
      "Value: r\n",
      "Value: e\n",
      "Value: s\n",
      "Value:  \n",
      "Value: L\n",
      "Value: e\n",
      "Value: o\n",
      "Value: n\n"
     ]
    }
   ],
   "source": [
    "# Printing all characters in a name using hte 'in' keyword\n",
    "\n",
    "name = \"Andres Leon\"\n",
    "for letter in name:\n",
    "    print(\"Value: {}\".format(letter))"
   ]
  },
  {
   "cell_type": "code",
   "execution_count": 1,
   "id": "a1aee625",
   "metadata": {},
   "outputs": [
    {
     "name": "stdout",
     "output_type": "stream",
     "text": [
      "0\n",
      "1\n",
      "2\n",
      "4\n"
     ]
    }
   ],
   "source": [
    "# using the continue statement within a for loop\n",
    "\n",
    "for num in range(5):\n",
    "    if num == 3:\n",
    "        continue\n",
    "    print(num)"
   ]
  },
  {
   "cell_type": "code",
   "execution_count": 2,
   "id": "3a944760",
   "metadata": {},
   "outputs": [
    {
     "name": "stdout",
     "output_type": "stream",
     "text": [
      "0\n",
      "1\n",
      "2\n"
     ]
    }
   ],
   "source": [
    "# breaking out of a loop using the 'break' keyword\n",
    "\n",
    "for num in range(5):\n",
    "    if num == 3:\n",
    "        break\n",
    "    print(num)"
   ]
  },
  {
   "cell_type": "code",
   "execution_count": 3,
   "id": "0f0c907d",
   "metadata": {},
   "outputs": [],
   "source": [
    "# setting a placeholder using the 'pass' keyword\n",
    "\n",
    "for i in range(5):\n",
    "    # TODO: add code to print number\n",
    "    pass"
   ]
  },
  {
   "cell_type": "markdown",
   "id": "20fc71bd",
   "metadata": {},
   "source": [
    "Tuesday Exercises\n"
   ]
  },
  {
   "cell_type": "code",
   "execution_count": 5,
   "id": "bcefdb05",
   "metadata": {},
   "outputs": [
    {
     "name": "stdout",
     "output_type": "stream",
     "text": [
      "3\n",
      "6\n",
      "9\n",
      "12\n",
      "15\n",
      "18\n",
      "21\n",
      "24\n",
      "27\n",
      "30\n",
      "33\n",
      "36\n",
      "39\n",
      "42\n",
      "45\n",
      "48\n",
      "51\n",
      "54\n",
      "57\n",
      "60\n",
      "63\n",
      "66\n",
      "69\n",
      "72\n",
      "75\n",
      "78\n",
      "81\n",
      "84\n",
      "87\n",
      "90\n",
      "93\n",
      "96\n",
      "99\n"
     ]
    }
   ],
   "source": [
    "# Write a loop that prints out all numbers from 1 to 100 that are divisible by three.\n",
    "\n",
    "for i in range(1,100):\n",
    "    if i%3 == 0:\n",
    "        print(i)"
   ]
  },
  {
   "cell_type": "code",
   "execution_count": 6,
   "id": "8248ac21",
   "metadata": {},
   "outputs": [
    {
     "name": "stdout",
     "output_type": "stream",
     "text": [
      "3\n",
      "6\n",
      "9\n",
      "12\n",
      "15\n",
      "18\n",
      "21\n",
      "24\n",
      "27\n",
      "30\n",
      "33\n",
      "36\n",
      "39\n",
      "42\n",
      "45\n",
      "48\n",
      "51\n",
      "54\n",
      "57\n",
      "60\n",
      "63\n",
      "66\n",
      "69\n",
      "72\n",
      "75\n",
      "78\n",
      "81\n",
      "84\n",
      "87\n",
      "90\n",
      "93\n",
      "96\n",
      "99\n"
     ]
    }
   ],
   "source": [
    "for i in range(3,100,3):\n",
    "    print(i)"
   ]
  },
  {
   "cell_type": "code",
   "execution_count": 11,
   "id": "42758085",
   "metadata": {},
   "outputs": [
    {
     "name": "stdout",
     "output_type": "stream",
     "text": [
      "a\n",
      "e\n"
     ]
    }
   ],
   "source": [
    "# Ask for user to input, and write a for loop that will output all vowels within it. For example, \"Hello\" --->  \"eo\"\n",
    "\n",
    "vowels = \"AEIOUaeiou\"\n",
    "word = input(\"Please provide a word:\")\n",
    "\n",
    "for x in word:\n",
    "    if x in vowels:\n",
    "        print(x)"
   ]
  },
  {
   "cell_type": "code",
   "execution_count": 14,
   "id": "ec6f683b",
   "metadata": {},
   "outputs": [
    {
     "name": "stdout",
     "output_type": "stream",
     "text": [
      "ae"
     ]
    }
   ],
   "source": [
    "vowels = \"AEIOUaeiou\"\n",
    "word = input(\"Please provide a word:\")\n",
    "\n",
    "for x in word:\n",
    "    if x in vowels:\n",
    "        print(x, end=\"\")"
   ]
  },
  {
   "cell_type": "markdown",
   "id": "09b4b849",
   "metadata": {},
   "source": [
    "Wednesday: While Loops\n",
    "    generally used when you need to loop based on a condition rather than counting\n",
    "    While loops are generally used when doing condition-based looping\n",
    "    When using a while loop, often you’ll use boolean variables"
   ]
  },
  {
   "cell_type": "code",
   "execution_count": 15,
   "id": "6d319ac8",
   "metadata": {},
   "outputs": [
    {
     "name": "stdout",
     "output_type": "stream",
     "text": [
      "10\n",
      "9\n",
      "8\n",
      "7\n",
      "6\n",
      "5\n",
      "4\n",
      "3\n",
      "2\n",
      "1\n"
     ]
    }
   ],
   "source": [
    "# writing my first while loop\n",
    "\n",
    "health = 10\n",
    "while health >0:\n",
    "    print(health)\n",
    "    health -= 1         # forgetting this line will result in infinite loop"
   ]
  },
  {
   "cell_type": "code",
   "execution_count": 16,
   "id": "e3f3eb96",
   "metadata": {},
   "outputs": [
    {
     "name": "stdout",
     "output_type": "stream",
     "text": [
      "0 0\n",
      "0 1\n",
      "0 2\n",
      "1 0\n",
      "1 1\n",
      "1 2\n"
     ]
    }
   ],
   "source": [
    "# using two or more loops together is called a nested loop.\n",
    "        # When using nested loops, the inner loop must always finish running, before the outer loop can continue\n",
    "\n",
    "for i in range(2):          #outside loop\n",
    "    for j in range(3):      #inside loop\n",
    "        print(i,j)"
   ]
  },
  {
   "cell_type": "markdown",
   "id": "6d68a47e",
   "metadata": {},
   "source": [
    "Wednesday Exercises"
   ]
  },
  {
   "cell_type": "code",
   "execution_count": null,
   "id": "cbfd0ec2",
   "metadata": {},
   "outputs": [
    {
     "name": "stdout",
     "output_type": "stream",
     "text": [
      "Goodbye\n"
     ]
    }
   ],
   "source": [
    "# Write a while loop that continues to ask for user input and runs until they type 'quit'\n",
    "\n",
    "while True:\n",
    "    user_input = input(\"Enter a word (or type 'quit' to exit):\").lower()\n",
    "    if user_input == \"quit\":\n",
    "        print(\"Goodbye\")\n",
    "        break               # to exit the loop\n",
    "    print(user_input)"
   ]
  },
  {
   "cell_type": "code",
   "execution_count": 26,
   "id": "77ab9fca",
   "metadata": {},
   "outputs": [
    {
     "name": "stdout",
     "output_type": "stream",
     "text": [
      "0\n",
      "1\n",
      "2\n"
     ]
    }
   ],
   "source": [
    "# Write a for loop within a while loop that will count from 0 to 5, but when it reaches 3, it sets a game_over variable to True and breaks out of the loop. The while loop should continue to loop until game_over is True.\n",
    "    # the output should only be 0, 1, 2.\n",
    "\n",
    "game_over = False\n",
    "\n",
    "while not game_over:\n",
    "    for i in range(6):\n",
    "        if i == 3:\n",
    "            game_over = True\n",
    "            break\n",
    "        print(i)\n"
   ]
  },
  {
   "cell_type": "markdown",
   "id": "54ea1de1",
   "metadata": {},
   "source": [
    "Thursday: Working with Lists\n"
   ]
  },
  {
   "cell_type": "code",
   "execution_count": null,
   "id": "1a210bd1",
   "metadata": {},
   "outputs": [
    {
     "name": "stdout",
     "output_type": "stream",
     "text": [
      "3\n"
     ]
    }
   ],
   "source": [
    "# checking the number of items within a list. Using len() function. \n",
    "\n",
    "nums = [5, 10, 15]  \n",
    "length = len(nums)             # len() returns an integer\n",
    "print(length)"
   ]
  },
  {
   "cell_type": "code",
   "execution_count": 36,
   "id": "e154c039",
   "metadata": {},
   "outputs": [
    {
     "name": "stdout",
     "output_type": "stream",
     "text": [
      "[10, 15]\n",
      "[5, 10]\n",
      "[5, 15, 25, 35]\n",
      "[30, 35]\n"
     ]
    }
   ],
   "source": [
    "# accessing specific items of a list with slices\n",
    "\n",
    "nums = [5, 10, 15, 20, 25, 30, 35]\n",
    "print( nums[ 1 : 3] )           # will output items in index 1 and 2\n",
    "print( nums[ : 2] )             # will output items in index 0 and 1\n",
    "print( nums [ : : 2] )          # will print every other index - 0, 2, 4, etc\n",
    "print( nums [-2:] )             # will output the last two items in the list"
   ]
  },
  {
   "cell_type": "code",
   "execution_count": 37,
   "id": "b0d1771c",
   "metadata": {},
   "outputs": [
    {
     "name": "stdout",
     "output_type": "stream",
     "text": [
      "[10, 20, 5]\n"
     ]
    }
   ],
   "source": [
    "# adding an item to the back of a list using the .append() function\n",
    "\n",
    "nums = [10, 20]\n",
    "nums.append(5)\n",
    "print(nums)"
   ]
  },
  {
   "cell_type": "code",
   "execution_count": 39,
   "id": "c740bb5d",
   "metadata": {},
   "outputs": [
    {
     "name": "stdout",
     "output_type": "stream",
     "text": [
      "['glove', 'ball', 'base']\n"
     ]
    }
   ],
   "source": [
    "# adding a value at any specified position within a list\n",
    "\n",
    "words = [\"ball\", \"base\"]\n",
    "words.insert(0,\"glove\")              # first number is the index, second is the value\n",
    "print(words)"
   ]
  },
  {
   "cell_type": "code",
   "execution_count": 42,
   "id": "98782431",
   "metadata": {},
   "outputs": [
    {
     "name": "stdout",
     "output_type": "stream",
     "text": [
      "5 \n",
      " ['ball']\n"
     ]
    }
   ],
   "source": [
    "# using .pop() to remove items and saving to a varible to use latter\n",
    "\n",
    "item = [5, \"ball\", True]\n",
    "item.pop()                      # by default removes the last item\n",
    "removed_item = item.pop(0)     # removes 5 and saves it into the variable\n",
    "print(removed_item, \"\\n\", item)"
   ]
  },
  {
   "cell_type": "code",
   "execution_count": null,
   "id": "d6b16be3",
   "metadata": {},
   "outputs": [
    {
     "name": "stdout",
     "output_type": "stream",
     "text": [
      "['baseball', 'football', 'hockey']\n"
     ]
    }
   ],
   "source": [
    "# usign the remove method with a try an except\n",
    "\n",
    "sports = [\"baseball\", \"soccer\", \"football\", \"hockey\"]\n",
    "\n",
    "try:\n",
    "    sports.remove(\"soccer\")\n",
    "except:\n",
    "    print(\"The item does not exist in the list\")\n",
    "print(sports)"
   ]
  },
  {
   "cell_type": "code",
   "execution_count": 44,
   "id": "5d0b01fd",
   "metadata": {},
   "outputs": [
    {
     "name": "stdout",
     "output_type": "stream",
     "text": [
      "3\n",
      "9\n",
      "17\n"
     ]
    }
   ],
   "source": [
    "# Working with numerical list data\n",
    "        # using min, max, and sum\n",
    "\n",
    "nums = [5, 3, 9]\n",
    "print( min ( nums ) )            # will find the lowest number in the list\n",
    "print( max ( nums ) )            # will find the highest number in the list\n",
    "print( sum ( nums ) )           # will add all numbers in the list and return the sum\n"
   ]
  },
  {
   "cell_type": "code",
   "execution_count": 45,
   "id": "5aec5ede",
   "metadata": {},
   "outputs": [
    {
     "name": "stdout",
     "output_type": "stream",
     "text": [
      "[5, 8, 0, 2] [0, 2, 5, 8]\n"
     ]
    }
   ],
   "source": [
    "# using sorted on lists for numerical and alphabetical data\n",
    "            # The sorted function will work on either numerical or alphabetical lists, but not one that is mixed. Sorted also returns a copy of the list, so it doesn’t alter the original.\n",
    "\n",
    "nums = [5, 8, 0, 2]\n",
    "sorted_nums = sorted(nums)              # save to a new variable to use later\n",
    "print(nums, sorted_nums)"
   ]
  },
  {
   "cell_type": "code",
   "execution_count": 46,
   "id": "775f6873",
   "metadata": {},
   "outputs": [
    {
     "name": "stdout",
     "output_type": "stream",
     "text": [
      "[0, 3, 5, 8]\n"
     ]
    }
   ],
   "source": [
    "# sorting a list with .sort() in-place\n",
    "\n",
    "nums = [5, 0, 8, 3]\n",
    "nums.sort()             # alters the original variable directly\n",
    "print(nums)"
   ]
  },
  {
   "cell_type": "code",
   "execution_count": 47,
   "id": "a31a2847",
   "metadata": {},
   "outputs": [
    {
     "name": "stdout",
     "output_type": "stream",
     "text": [
      "Found\n",
      "not found\n"
     ]
    }
   ],
   "source": [
    "#using conditional statements on a list\n",
    "\n",
    "names = [\"James\", \"Robert\", \"Mary\"]\n",
    "if \"Mary\" in names:\n",
    "    print(\"Found\")              # will run since Mary is in the list\n",
    "if \"Jimmy\" not in names:\n",
    "    print(\"not found\")          # will run since Jimmy is not in the list"
   ]
  },
  {
   "cell_type": "code",
   "execution_count": 50,
   "id": "a4861239",
   "metadata": {},
   "outputs": [
    {
     "name": "stdout",
     "output_type": "stream",
     "text": [
      "empty\n",
      "there are some items\n"
     ]
    }
   ],
   "source": [
    "# using conditionals to see if a list is empty\n",
    "\n",
    "nums = []\n",
    "if not nums:            # could also say 'if nums == []'\n",
    "    print(\"empty\")\n",
    "\n",
    "nums1 = [0, 2, 3, 4, 6, 8, 60]\n",
    "if nums1:\n",
    "    print(\"there are some items\")"
   ]
  },
  {
   "cell_type": "code",
   "execution_count": null,
   "id": "6dcfad1f",
   "metadata": {},
   "outputs": [
    {
     "name": "stdout",
     "output_type": "stream",
     "text": [
      "Baseball\n",
      "Hockey\n",
      "Football\n",
      "Basketball\n"
     ]
    }
   ],
   "source": [
    "# using a for loop to print all items in a list\n",
    "\n",
    "sports = [\"Baseball\", \"Hockey\", \"Football\", \"Basketball\"]\n",
    "for sport in sports:\n",
    "    print(sport)\n"
   ]
  },
  {
   "cell_type": "code",
   "execution_count": 52,
   "id": "5cfb60d1",
   "metadata": {},
   "outputs": [
    {
     "name": "stdout",
     "output_type": "stream",
     "text": [
      "Baseball Hockey Football Basketball "
     ]
    }
   ],
   "source": [
    "\n",
    "sports = [\"Baseball\", \"Hockey\", \"Football\", \"Basketball\"]\n",
    "for sport in sports:\n",
    "    print(sport, end=\" \")"
   ]
  },
  {
   "cell_type": "code",
   "execution_count": 53,
   "id": "db5ab8db",
   "metadata": {},
   "outputs": [
    {
     "name": "stdout",
     "output_type": "stream",
     "text": [
      "['Jack', 'Rob', 'Robert']\n"
     ]
    }
   ],
   "source": [
    "# using the while loop to remove a certain value\n",
    "\n",
    "names = [\"Bob\", \"Jack\", \"Rob\", \"Bob\", \"Robert\"]\n",
    "while \"Bob\" in names:\n",
    "    names.remove(\"Bob\")             # removes all instances of \"Bob\"\n",
    "print(names)"
   ]
  },
  {
   "cell_type": "markdown",
   "id": "2b9176d7",
   "metadata": {},
   "source": [
    "Thursday Exercises"
   ]
  },
  {
   "cell_type": "code",
   "execution_count": 56,
   "id": "e32a740c",
   "metadata": {},
   "outputs": [
    {
     "name": "stdout",
     "output_type": "stream",
     "text": [
      "['Bob', 'Kenny', 'Amanda']\n"
     ]
    }
   ],
   "source": [
    "# Remove all duplicates from the list below. Hint: use the.count() method. the output should be ['Bob','Kenny', 'Amanda']\n",
    "\n",
    "names = [\"Bob\", \"Kenny\", \"Amanda\", \"Bob\", \"Kenny\"]\n",
    "\n",
    "new_list = []\n",
    "\n",
    "for name in names:\n",
    "    if name not in new_list:\n",
    "        new_list.append(name)\n",
    "print(new_list)"
   ]
  },
  {
   "cell_type": "code",
   "execution_count": 57,
   "id": "cda5b7c1",
   "metadata": {},
   "outputs": [
    {
     "name": "stdout",
     "output_type": "stream",
     "text": [
      "['Bob', 'Kenny', 'Amanda']\n"
     ]
    }
   ],
   "source": [
    "names = [\"Bob\", \"Kenny\", \"Amanda\", \"Bob\", \"Kenny\"]\n",
    "new_list = []\n",
    "\n",
    "for name in names:\n",
    "    if new_list.count(name) == 0:  # If name not already in new_list\n",
    "        new_list.append(name)\n",
    "\n",
    "print(new_list)"
   ]
  },
  {
   "cell_type": "code",
   "execution_count": 59,
   "id": "e19618c9",
   "metadata": {},
   "outputs": [
    {
     "name": "stdout",
     "output_type": "stream",
     "text": [
      "Goodbye\n",
      "andres\n",
      "alvaro\n",
      "diana\n",
      "maria\n",
      "claudia\n",
      "luz\n",
      "jairo\n"
     ]
    }
   ],
   "source": [
    "# Use a while loop to continually ask the user to input a word, until they type \"quit\". Once they type a word in, add it to a list. Once they quit the loop, use a for loop to output all items within the list.\n",
    "\n",
    "# create an empty list to store user's input\n",
    "user_input = []\n",
    "\n",
    "# Use a while loop to ask for the user input\n",
    "while True:\n",
    "    word = input(\"Please provide a word (or type 'quit' to exit): \")\n",
    "    if word == \"quit\":\n",
    "        print(\"Goodbye\")\n",
    "        break\n",
    "    user_input.append(word)\n",
    "for x in user_input:\n",
    "    print(x)\n",
    "    "
   ]
  },
  {
   "cell_type": "code",
   "execution_count": 60,
   "id": "0c129e04",
   "metadata": {},
   "outputs": [
    {
     "name": "stdout",
     "output_type": "stream",
     "text": [
      "\n",
      "Goodbye!\n",
      "Here are the words you entered:\n",
      "- andres alvaro jesus\n",
      "- dios\n"
     ]
    }
   ],
   "source": [
    "#Create an empty list to store user input\n",
    "user_input = []\n",
    "\n",
    "# Use a while loop to continuously get user input\n",
    "while True:\n",
    "    word = input(\"Please provide a word (or type 'quit' to exit): \").strip()            # removes accidental leading/trailing spaces.\n",
    "    if word.lower() == \"quit\":\n",
    "        print(\"\\nGoodbye!\\nHere are the words you entered:\")\n",
    "        break\n",
    "    if word:  # Only add non-empty input\n",
    "        user_input.append(word)\n",
    "\n",
    "# Print all words the user entered\n",
    "for x in user_input:\n",
    "    print(\"-\", x)"
   ]
  },
  {
   "cell_type": "markdown",
   "id": "be382260",
   "metadata": {},
   "source": [
    "Friday: Creating Hangman"
   ]
  },
  {
   "cell_type": "code",
   "execution_count": null,
   "id": "b3b4a092",
   "metadata": {},
   "outputs": [],
   "source": [
    "#1 Select a word to play with\n",
    "#2 Ask user for input\n",
    "#3 Check if guess is correct\n",
    "    #a If it is, show the letter in the proper place\n",
    "    #b if it isn't, lose a life\n",
    "#4 continue steps 2 and 3 until one of the following occurs:\n",
    "    #a The user guesses the word correctly\n",
    "    #b the user loses all their lives"
   ]
  },
  {
   "cell_type": "code",
   "execution_count": null,
   "id": "de522c8d",
   "metadata": {},
   "outputs": [
    {
     "name": "stdout",
     "output_type": "stream",
     "text": [
      "Thanks for playing.\n"
     ]
    }
   ],
   "source": [
    "#import  additional functions\n",
    "from random import choice                               # importing a function called “choice” which will select a random item from a list.\n",
    "from IPython.display import clear_output                # importing a Jupyter Notebook specific function which clears the output.\n",
    "\n",
    "# declare game variables\n",
    "words = [\"three\", \"basket\", \"chair\", \"paper\", \"python\"]\n",
    "word = choice(words)                                    # randomly chooses a word from words list\n",
    "guessed, lives, game_over = [], 7, False                # multi-variable assigment\n",
    "\n",
    "# create a list of underscopres to the length of the word\n",
    "guesses = [\"_ \"]*len(word)                              # declaring a variable called guesses, which is set to a list of underscores\n",
    "\n",
    "# create main game loop\n",
    "while not game_over:\n",
    "    # output game information\n",
    "    hidden_word = \"\".join(guesses)\n",
    "    print(\"Your guessed letters: {}\".format(guessed))\n",
    "    print(\"Word to guess: {}\".format(hidden_word))\n",
    "    print(\"Lives: {}\".format(lives))\n",
    "\n",
    "    ans = input(\"Type quit or guess a letter: \").lower()\n",
    "    \n",
    "    clear_output()                      # clear all previous output\n",
    "    \n",
    "    if ans == \"quit\":\n",
    "        print(\"Thanks for playing.\")\n",
    "        game_over = True\n",
    "    elif ans in word and ans not in guessed:                   # check if letter in word\n",
    "        print(\"You guessed correctly!\")\n",
    "\n",
    "# create a loop to change underscore to proper letter\n",
    "for i in range(len(word)):\n",
    "    if word[i]  == ans:                 # compares values at indexes\n",
    "        guesses[i] = ans\n",
    "    elif ans in guessed:\n",
    "        print(\"You already guessed that. Try again!\")\n",
    "    else:                               # otherwise lose a life\n",
    "        lives -= 1\n",
    "        print(\"Incorrect, you lost a life.\")\n",
    "\n",
    "    if ans not in guessed:\n",
    "        guessed.append(ans)                 # add ans to guessed list\n",
    "\n",
    "    if lives <= 0:\n",
    "        print(\"You lost all your lives, you lost!\")\n",
    "        game_over = True\n",
    "    elif word == \"\".join(guesses):\n",
    "        print(\"Congratulations, you guessed it correctly!\")\n",
    "        game_over = True"
   ]
  },
  {
   "cell_type": "markdown",
   "id": "eeac2b6e",
   "metadata": {},
   "source": [
    "Weekly Challenges"
   ]
  },
  {
   "cell_type": "code",
   "execution_count": 9,
   "id": "41647f87",
   "metadata": {},
   "outputs": [],
   "source": [
    "# Use a for loop to build a pyramid of x’s. It should be modular so that if you loop to 5 or 50, it still creates evenly spaced rows. Hint: Multiply the string “x” by the row. For example, if you\n",
    "# loop to the range of 4, it should produce the following result:\n",
    "\n",
    "#>>> x\n",
    "#>>> x x\n",
    "#>>> x x x"
   ]
  },
  {
   "cell_type": "code",
   "execution_count": 15,
   "id": "74189c52",
   "metadata": {},
   "outputs": [
    {
     "name": "stdout",
     "output_type": "stream",
     "text": [
      "\n",
      "x \n",
      "x x \n",
      "x x x \n"
     ]
    }
   ],
   "source": [
    "for i in range(4):\n",
    "    print(\"x \"*i)"
   ]
  },
  {
   "cell_type": "code",
   "execution_count": 17,
   "id": "597fc855",
   "metadata": {},
   "outputs": [
    {
     "name": "stdout",
     "output_type": "stream",
     "text": [
      "['John', ' ', 'Amanda', 5]\n",
      "['John', ' ', 'Amanda', 5]\n"
     ]
    }
   ],
   "source": [
    "# Write a loop that will iterate over a list of items and only output items which have letters inside of a string. Take\n",
    "#the following list, for example, only “John” and “Amanda” should\n",
    "# be output: names = ['John', ' ', 'Amanda', 5]\n",
    "\n",
    "names = ['John', ' ', 'Amanda', 5]\n",
    "\n",
    "for i in names:\n",
    "    if i == ' ' or i == 5:\n",
    "        continue\n",
    "    print(names)"
   ]
  },
  {
   "cell_type": "code",
   "execution_count": null,
   "id": "97252c6b",
   "metadata": {},
   "outputs": [],
   "source": [
    "# Given a list of temperatures that are in Celsius, write a loop that iterates over the list and outputs the temperature converted\n",
    "# into Fahrenheit. Hint: The conversion is “F = (9/5) ∗ C + 32”:\n",
    "\n",
    "        # >>> temps = [32, 12, 44, 29]\n",
    "        # Output would be [89.6, 53.6, 111.2, 84.2]"
   ]
  }
 ],
 "metadata": {
  "kernelspec": {
   "display_name": "base",
   "language": "python",
   "name": "python3"
  },
  "language_info": {
   "codemirror_mode": {
    "name": "ipython",
    "version": 3
   },
   "file_extension": ".py",
   "mimetype": "text/x-python",
   "name": "python",
   "nbconvert_exporter": "python",
   "pygments_lexer": "ipython3",
   "version": "3.12.4"
  }
 },
 "nbformat": 4,
 "nbformat_minor": 5
}
